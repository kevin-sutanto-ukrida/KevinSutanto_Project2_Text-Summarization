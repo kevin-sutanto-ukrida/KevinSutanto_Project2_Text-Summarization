{
  "nbformat": 4,
  "nbformat_minor": 0,
  "metadata": {
    "colab": {
      "provenance": [],
      "collapsed_sections": [
        "h2rS4SpMMUDd",
        "zoc77PNLPEPR",
        "TaRo9qhEVtaJ",
        "RCZfSn9AZY1V",
        "9WRBFb1VUXz4"
      ],
      "toc_visible": true,
      "mount_file_id": "14CQjREDIdoZ-vQ6x_zmUccuuvUE70hKh",
      "authorship_tag": "ABX9TyOYRRerHzNS6leXzYIwVeM5",
      "include_colab_link": true
    },
    "kernelspec": {
      "name": "python3",
      "display_name": "Python 3"
    },
    "language_info": {
      "name": "python"
    }
  },
  "cells": [
    {
      "cell_type": "markdown",
      "metadata": {
        "id": "view-in-github",
        "colab_type": "text"
      },
      "source": [
        "<a href=\"https://colab.research.google.com/github/kairamilanifitria/NLP-Projects/blob/main/Project%202%20Text%20Summarization/Fix/1.%20Data_Preparation.ipynb\" target=\"_parent\"><img src=\"https://colab.research.google.com/assets/colab-badge.svg\" alt=\"Open In Colab\"/></a>"
      ]
    },
    {
      "cell_type": "markdown",
      "source": [
        "# Prepare the TRAIN_CSV"
      ],
      "metadata": {
        "id": "h2rS4SpMMUDd"
      }
    },
    {
      "cell_type": "markdown",
      "source": [
        "## preparing column, convert to normal text"
      ],
      "metadata": {
        "id": "zoc77PNLPEPR"
      }
    },
    {
      "cell_type": "code",
      "source": [
        "import pandas as pd"
      ],
      "metadata": {
        "id": "q9uBjECwPbSW"
      },
      "execution_count": 1,
      "outputs": []
    },
    {
      "cell_type": "code",
      "execution_count": 25,
      "metadata": {
        "collapsed": true,
        "id": "E9N6P_ACMJdL"
      },
      "outputs": [],
      "source": [
        "train_df = pd.read_csv('/content/drive/MyDrive/Bootcamp AI/Dataset/Task2 : Text Summarization/normalized_dataset/train_normalized.csv')"
      ]
    },
    {
      "cell_type": "code",
      "source": [
        "train_df.iloc[1]"
      ],
      "metadata": {
        "colab": {
          "base_uri": "https://localhost:8080/",
          "height": 366
        },
        "id": "1XJUJfODQTyC",
        "outputId": "cdfbb71e-cd90-4fce-ea8e-54314f8d1285"
      },
      "execution_count": 26,
      "outputs": [
        {
          "output_type": "execute_result",
          "data": {
            "text/plain": [
              "id                                                                       205215\n",
              "url                           https://www.liputan6.com/news/read/205215/defo...\n",
              "clean_article                 [['Striker', 'Timnas', 'Inggris', 'yang', 'ber...\n",
              "clean_summary                 [['Pertandingan', 'melawan', 'Manchester', 'Ci...\n",
              "extractive_summary                                                       [0, 8]\n",
              "rebuilt_extractive_summary    [['Striker', 'Timnas', 'Inggris', 'yang', 'ber...\n",
              "text                            striker   timnas   inggris   yang   main   s...\n",
              "summary                         tanding   lawan   manchester   city   rupa  ...\n",
              "e_summary                     striker timnas inggris yang main sama tottenha...\n",
              "Name: 1, dtype: object"
            ],
            "text/html": [
              "<div>\n",
              "<style scoped>\n",
              "    .dataframe tbody tr th:only-of-type {\n",
              "        vertical-align: middle;\n",
              "    }\n",
              "\n",
              "    .dataframe tbody tr th {\n",
              "        vertical-align: top;\n",
              "    }\n",
              "\n",
              "    .dataframe thead th {\n",
              "        text-align: right;\n",
              "    }\n",
              "</style>\n",
              "<table border=\"1\" class=\"dataframe\">\n",
              "  <thead>\n",
              "    <tr style=\"text-align: right;\">\n",
              "      <th></th>\n",
              "      <th>1</th>\n",
              "    </tr>\n",
              "  </thead>\n",
              "  <tbody>\n",
              "    <tr>\n",
              "      <th>id</th>\n",
              "      <td>205215</td>\n",
              "    </tr>\n",
              "    <tr>\n",
              "      <th>url</th>\n",
              "      <td>https://www.liputan6.com/news/read/205215/defo...</td>\n",
              "    </tr>\n",
              "    <tr>\n",
              "      <th>clean_article</th>\n",
              "      <td>[['Striker', 'Timnas', 'Inggris', 'yang', 'ber...</td>\n",
              "    </tr>\n",
              "    <tr>\n",
              "      <th>clean_summary</th>\n",
              "      <td>[['Pertandingan', 'melawan', 'Manchester', 'Ci...</td>\n",
              "    </tr>\n",
              "    <tr>\n",
              "      <th>extractive_summary</th>\n",
              "      <td>[0, 8]</td>\n",
              "    </tr>\n",
              "    <tr>\n",
              "      <th>rebuilt_extractive_summary</th>\n",
              "      <td>[['Striker', 'Timnas', 'Inggris', 'yang', 'ber...</td>\n",
              "    </tr>\n",
              "    <tr>\n",
              "      <th>text</th>\n",
              "      <td>striker   timnas   inggris   yang   main   s...</td>\n",
              "    </tr>\n",
              "    <tr>\n",
              "      <th>summary</th>\n",
              "      <td>tanding   lawan   manchester   city   rupa  ...</td>\n",
              "    </tr>\n",
              "    <tr>\n",
              "      <th>e_summary</th>\n",
              "      <td>striker timnas inggris yang main sama tottenha...</td>\n",
              "    </tr>\n",
              "  </tbody>\n",
              "</table>\n",
              "</div><br><label><b>dtype:</b> object</label>"
            ]
          },
          "metadata": {},
          "execution_count": 26
        }
      ]
    },
    {
      "cell_type": "code",
      "source": [
        "# drop the column \"extractive_summary\", \"text, \"summary\", and \"e_summary\"\n",
        "train_df = train_df.drop(['id', 'url', 'extractive_summary', 'text', 'summary', 'e_summary'], axis=1)"
      ],
      "metadata": {
        "id": "fDkGRVgjMcCX"
      },
      "execution_count": 27,
      "outputs": []
    },
    {
      "cell_type": "code",
      "source": [
        "# rename the column \"clean_article\" into \"original_text\"\n",
        "train_df = train_df.rename(columns={\"clean_article\": \"original_text\"})\n",
        "train_df = train_df.rename(columns={\"clean_summary\": \"abstractive_summary\"})\n",
        "train_df = train_df.rename(columns={\"rebuilt_extractive_summary\": \"extractive_summary\"})"
      ],
      "metadata": {
        "id": "U6KeqKT5QqkK"
      },
      "execution_count": 28,
      "outputs": []
    },
    {
      "cell_type": "code",
      "source": [
        "import re\n",
        "\n",
        "def clean_text(text):\n",
        "    # Remove URL + lowercase\n",
        "    text = re.sub(r'#(\\w+)', lambda match: ' ' + re.sub(r'(?<=[a-z0-9])(?=[A-Z])', ' ', match.group(1)), text)\n",
        "    text = text.lower()\n",
        "\n",
        "    # Remove special characters and punctuation\n",
        "    text = re.sub(r'[^\\w\\s]', ' ', text)\n",
        "    text = re.sub(r'[^a-zA-Z0-9\\s]', ' ', text)\n",
        "\n",
        "    # Remove extra whitespace\n",
        "    text = re.sub(r'\\s+', ' ', text).strip()\n",
        "\n",
        "    return text\n",
        "\n",
        "# Apply the function to create new columns\n",
        "train_df['original_text'] = train_df['original_text'].apply(clean_text)\n",
        "train_df['abstractive_summary'] = train_df['abstractive_summary'].apply(clean_text)\n",
        "train_df['extractive_summary'] = train_df['extractive_summary'].apply(clean_text)"
      ],
      "metadata": {
        "id": "LfQnwZkuRWHU"
      },
      "execution_count": 29,
      "outputs": []
    },
    {
      "cell_type": "code",
      "source": [
        "train_df.head()"
      ],
      "metadata": {
        "colab": {
          "base_uri": "https://localhost:8080/",
          "height": 293
        },
        "collapsed": true,
        "id": "BgDYvt7VS17W",
        "outputId": "a88785c3-fa74-4a29-94ba-f7dfa5366605"
      },
      "execution_count": 31,
      "outputs": [
        {
          "output_type": "execute_result",
          "data": {
            "text/plain": [
              "                                       original_text  \\\n",
              "0  liputan6 com jakarta setelah menjalani ujian n...   \n",
              "1  striker timnas inggris yang bermain bersama to...   \n",
              "2  liputan6 com jakarta harga sejumlah kebutuhan ...   \n",
              "3  liputan6 com kupang evakuasi warga negara indo...   \n",
              "4  liputan6 com lembata pusat vulkanologi dan mit...   \n",
              "\n",
              "                                 abstractive_summary  \\\n",
              "0  artis muda haykal dan putri titan akan memasuk...   \n",
              "1  pertandingan melawan manchester city merupakan...   \n",
              "2  harga bahan pokok seperti minyak goreng telur ...   \n",
              "3  evakuasi warga negara indonesia dari timor les...   \n",
              "4  status gunung batutara ditetapkan siaga tiga k...   \n",
              "\n",
              "                                  extractive_summary  \n",
              "0  liputan6 com jakarta setelah menjalani ujian n...  \n",
              "1  striker timnas inggris yang bermain bersama to...  \n",
              "2  liputan6 com jakarta harga sejumlah kebutuhan ...  \n",
              "3  dalam empat hari ini 1 540 wni telah diangkut ...  \n",
              "4  lahar panas juga keluar dari bagian sebelah ti...  "
            ],
            "text/html": [
              "\n",
              "  <div id=\"df-408e0de6-6afa-494f-b402-e46e7cc9e4ba\" class=\"colab-df-container\">\n",
              "    <div>\n",
              "<style scoped>\n",
              "    .dataframe tbody tr th:only-of-type {\n",
              "        vertical-align: middle;\n",
              "    }\n",
              "\n",
              "    .dataframe tbody tr th {\n",
              "        vertical-align: top;\n",
              "    }\n",
              "\n",
              "    .dataframe thead th {\n",
              "        text-align: right;\n",
              "    }\n",
              "</style>\n",
              "<table border=\"1\" class=\"dataframe\">\n",
              "  <thead>\n",
              "    <tr style=\"text-align: right;\">\n",
              "      <th></th>\n",
              "      <th>original_text</th>\n",
              "      <th>abstractive_summary</th>\n",
              "      <th>extractive_summary</th>\n",
              "    </tr>\n",
              "  </thead>\n",
              "  <tbody>\n",
              "    <tr>\n",
              "      <th>0</th>\n",
              "      <td>liputan6 com jakarta setelah menjalani ujian n...</td>\n",
              "      <td>artis muda haykal dan putri titan akan memasuk...</td>\n",
              "      <td>liputan6 com jakarta setelah menjalani ujian n...</td>\n",
              "    </tr>\n",
              "    <tr>\n",
              "      <th>1</th>\n",
              "      <td>striker timnas inggris yang bermain bersama to...</td>\n",
              "      <td>pertandingan melawan manchester city merupakan...</td>\n",
              "      <td>striker timnas inggris yang bermain bersama to...</td>\n",
              "    </tr>\n",
              "    <tr>\n",
              "      <th>2</th>\n",
              "      <td>liputan6 com jakarta harga sejumlah kebutuhan ...</td>\n",
              "      <td>harga bahan pokok seperti minyak goreng telur ...</td>\n",
              "      <td>liputan6 com jakarta harga sejumlah kebutuhan ...</td>\n",
              "    </tr>\n",
              "    <tr>\n",
              "      <th>3</th>\n",
              "      <td>liputan6 com kupang evakuasi warga negara indo...</td>\n",
              "      <td>evakuasi warga negara indonesia dari timor les...</td>\n",
              "      <td>dalam empat hari ini 1 540 wni telah diangkut ...</td>\n",
              "    </tr>\n",
              "    <tr>\n",
              "      <th>4</th>\n",
              "      <td>liputan6 com lembata pusat vulkanologi dan mit...</td>\n",
              "      <td>status gunung batutara ditetapkan siaga tiga k...</td>\n",
              "      <td>lahar panas juga keluar dari bagian sebelah ti...</td>\n",
              "    </tr>\n",
              "  </tbody>\n",
              "</table>\n",
              "</div>\n",
              "    <div class=\"colab-df-buttons\">\n",
              "\n",
              "  <div class=\"colab-df-container\">\n",
              "    <button class=\"colab-df-convert\" onclick=\"convertToInteractive('df-408e0de6-6afa-494f-b402-e46e7cc9e4ba')\"\n",
              "            title=\"Convert this dataframe to an interactive table.\"\n",
              "            style=\"display:none;\">\n",
              "\n",
              "  <svg xmlns=\"http://www.w3.org/2000/svg\" height=\"24px\" viewBox=\"0 -960 960 960\">\n",
              "    <path d=\"M120-120v-720h720v720H120Zm60-500h600v-160H180v160Zm220 220h160v-160H400v160Zm0 220h160v-160H400v160ZM180-400h160v-160H180v160Zm440 0h160v-160H620v160ZM180-180h160v-160H180v160Zm440 0h160v-160H620v160Z\"/>\n",
              "  </svg>\n",
              "    </button>\n",
              "\n",
              "  <style>\n",
              "    .colab-df-container {\n",
              "      display:flex;\n",
              "      gap: 12px;\n",
              "    }\n",
              "\n",
              "    .colab-df-convert {\n",
              "      background-color: #E8F0FE;\n",
              "      border: none;\n",
              "      border-radius: 50%;\n",
              "      cursor: pointer;\n",
              "      display: none;\n",
              "      fill: #1967D2;\n",
              "      height: 32px;\n",
              "      padding: 0 0 0 0;\n",
              "      width: 32px;\n",
              "    }\n",
              "\n",
              "    .colab-df-convert:hover {\n",
              "      background-color: #E2EBFA;\n",
              "      box-shadow: 0px 1px 2px rgba(60, 64, 67, 0.3), 0px 1px 3px 1px rgba(60, 64, 67, 0.15);\n",
              "      fill: #174EA6;\n",
              "    }\n",
              "\n",
              "    .colab-df-buttons div {\n",
              "      margin-bottom: 4px;\n",
              "    }\n",
              "\n",
              "    [theme=dark] .colab-df-convert {\n",
              "      background-color: #3B4455;\n",
              "      fill: #D2E3FC;\n",
              "    }\n",
              "\n",
              "    [theme=dark] .colab-df-convert:hover {\n",
              "      background-color: #434B5C;\n",
              "      box-shadow: 0px 1px 3px 1px rgba(0, 0, 0, 0.15);\n",
              "      filter: drop-shadow(0px 1px 2px rgba(0, 0, 0, 0.3));\n",
              "      fill: #FFFFFF;\n",
              "    }\n",
              "  </style>\n",
              "\n",
              "    <script>\n",
              "      const buttonEl =\n",
              "        document.querySelector('#df-408e0de6-6afa-494f-b402-e46e7cc9e4ba button.colab-df-convert');\n",
              "      buttonEl.style.display =\n",
              "        google.colab.kernel.accessAllowed ? 'block' : 'none';\n",
              "\n",
              "      async function convertToInteractive(key) {\n",
              "        const element = document.querySelector('#df-408e0de6-6afa-494f-b402-e46e7cc9e4ba');\n",
              "        const dataTable =\n",
              "          await google.colab.kernel.invokeFunction('convertToInteractive',\n",
              "                                                    [key], {});\n",
              "        if (!dataTable) return;\n",
              "\n",
              "        const docLinkHtml = 'Like what you see? Visit the ' +\n",
              "          '<a target=\"_blank\" href=https://colab.research.google.com/notebooks/data_table.ipynb>data table notebook</a>'\n",
              "          + ' to learn more about interactive tables.';\n",
              "        element.innerHTML = '';\n",
              "        dataTable['output_type'] = 'display_data';\n",
              "        await google.colab.output.renderOutput(dataTable, element);\n",
              "        const docLink = document.createElement('div');\n",
              "        docLink.innerHTML = docLinkHtml;\n",
              "        element.appendChild(docLink);\n",
              "      }\n",
              "    </script>\n",
              "  </div>\n",
              "\n",
              "\n",
              "<div id=\"df-94442a00-8d98-4f68-8630-a70402d7ee65\">\n",
              "  <button class=\"colab-df-quickchart\" onclick=\"quickchart('df-94442a00-8d98-4f68-8630-a70402d7ee65')\"\n",
              "            title=\"Suggest charts\"\n",
              "            style=\"display:none;\">\n",
              "\n",
              "<svg xmlns=\"http://www.w3.org/2000/svg\" height=\"24px\"viewBox=\"0 0 24 24\"\n",
              "     width=\"24px\">\n",
              "    <g>\n",
              "        <path d=\"M19 3H5c-1.1 0-2 .9-2 2v14c0 1.1.9 2 2 2h14c1.1 0 2-.9 2-2V5c0-1.1-.9-2-2-2zM9 17H7v-7h2v7zm4 0h-2V7h2v10zm4 0h-2v-4h2v4z\"/>\n",
              "    </g>\n",
              "</svg>\n",
              "  </button>\n",
              "\n",
              "<style>\n",
              "  .colab-df-quickchart {\n",
              "      --bg-color: #E8F0FE;\n",
              "      --fill-color: #1967D2;\n",
              "      --hover-bg-color: #E2EBFA;\n",
              "      --hover-fill-color: #174EA6;\n",
              "      --disabled-fill-color: #AAA;\n",
              "      --disabled-bg-color: #DDD;\n",
              "  }\n",
              "\n",
              "  [theme=dark] .colab-df-quickchart {\n",
              "      --bg-color: #3B4455;\n",
              "      --fill-color: #D2E3FC;\n",
              "      --hover-bg-color: #434B5C;\n",
              "      --hover-fill-color: #FFFFFF;\n",
              "      --disabled-bg-color: #3B4455;\n",
              "      --disabled-fill-color: #666;\n",
              "  }\n",
              "\n",
              "  .colab-df-quickchart {\n",
              "    background-color: var(--bg-color);\n",
              "    border: none;\n",
              "    border-radius: 50%;\n",
              "    cursor: pointer;\n",
              "    display: none;\n",
              "    fill: var(--fill-color);\n",
              "    height: 32px;\n",
              "    padding: 0;\n",
              "    width: 32px;\n",
              "  }\n",
              "\n",
              "  .colab-df-quickchart:hover {\n",
              "    background-color: var(--hover-bg-color);\n",
              "    box-shadow: 0 1px 2px rgba(60, 64, 67, 0.3), 0 1px 3px 1px rgba(60, 64, 67, 0.15);\n",
              "    fill: var(--button-hover-fill-color);\n",
              "  }\n",
              "\n",
              "  .colab-df-quickchart-complete:disabled,\n",
              "  .colab-df-quickchart-complete:disabled:hover {\n",
              "    background-color: var(--disabled-bg-color);\n",
              "    fill: var(--disabled-fill-color);\n",
              "    box-shadow: none;\n",
              "  }\n",
              "\n",
              "  .colab-df-spinner {\n",
              "    border: 2px solid var(--fill-color);\n",
              "    border-color: transparent;\n",
              "    border-bottom-color: var(--fill-color);\n",
              "    animation:\n",
              "      spin 1s steps(1) infinite;\n",
              "  }\n",
              "\n",
              "  @keyframes spin {\n",
              "    0% {\n",
              "      border-color: transparent;\n",
              "      border-bottom-color: var(--fill-color);\n",
              "      border-left-color: var(--fill-color);\n",
              "    }\n",
              "    20% {\n",
              "      border-color: transparent;\n",
              "      border-left-color: var(--fill-color);\n",
              "      border-top-color: var(--fill-color);\n",
              "    }\n",
              "    30% {\n",
              "      border-color: transparent;\n",
              "      border-left-color: var(--fill-color);\n",
              "      border-top-color: var(--fill-color);\n",
              "      border-right-color: var(--fill-color);\n",
              "    }\n",
              "    40% {\n",
              "      border-color: transparent;\n",
              "      border-right-color: var(--fill-color);\n",
              "      border-top-color: var(--fill-color);\n",
              "    }\n",
              "    60% {\n",
              "      border-color: transparent;\n",
              "      border-right-color: var(--fill-color);\n",
              "    }\n",
              "    80% {\n",
              "      border-color: transparent;\n",
              "      border-right-color: var(--fill-color);\n",
              "      border-bottom-color: var(--fill-color);\n",
              "    }\n",
              "    90% {\n",
              "      border-color: transparent;\n",
              "      border-bottom-color: var(--fill-color);\n",
              "    }\n",
              "  }\n",
              "</style>\n",
              "\n",
              "  <script>\n",
              "    async function quickchart(key) {\n",
              "      const quickchartButtonEl =\n",
              "        document.querySelector('#' + key + ' button');\n",
              "      quickchartButtonEl.disabled = true;  // To prevent multiple clicks.\n",
              "      quickchartButtonEl.classList.add('colab-df-spinner');\n",
              "      try {\n",
              "        const charts = await google.colab.kernel.invokeFunction(\n",
              "            'suggestCharts', [key], {});\n",
              "      } catch (error) {\n",
              "        console.error('Error during call to suggestCharts:', error);\n",
              "      }\n",
              "      quickchartButtonEl.classList.remove('colab-df-spinner');\n",
              "      quickchartButtonEl.classList.add('colab-df-quickchart-complete');\n",
              "    }\n",
              "    (() => {\n",
              "      let quickchartButtonEl =\n",
              "        document.querySelector('#df-94442a00-8d98-4f68-8630-a70402d7ee65 button');\n",
              "      quickchartButtonEl.style.display =\n",
              "        google.colab.kernel.accessAllowed ? 'block' : 'none';\n",
              "    })();\n",
              "  </script>\n",
              "</div>\n",
              "\n",
              "    </div>\n",
              "  </div>\n"
            ],
            "application/vnd.google.colaboratory.intrinsic+json": {
              "type": "dataframe",
              "variable_name": "train_df"
            }
          },
          "metadata": {},
          "execution_count": 31
        }
      ]
    },
    {
      "cell_type": "code",
      "source": [
        "# download train_df into csv in my local\n",
        "from google.colab import files\n",
        "\n",
        "train_df.to_csv('train_df.csv', encoding = 'utf-8-sig')\n",
        "files.download('train_df.csv')\n"
      ],
      "metadata": {
        "colab": {
          "base_uri": "https://localhost:8080/",
          "height": 17
        },
        "id": "5o4a7T-LU7e4",
        "outputId": "dc12bd46-af3e-4893-d4d6-1188ba2cf9bf"
      },
      "execution_count": 46,
      "outputs": [
        {
          "output_type": "display_data",
          "data": {
            "text/plain": [
              "<IPython.core.display.Javascript object>"
            ],
            "application/javascript": [
              "\n",
              "    async function download(id, filename, size) {\n",
              "      if (!google.colab.kernel.accessAllowed) {\n",
              "        return;\n",
              "      }\n",
              "      const div = document.createElement('div');\n",
              "      const label = document.createElement('label');\n",
              "      label.textContent = `Downloading \"${filename}\": `;\n",
              "      div.appendChild(label);\n",
              "      const progress = document.createElement('progress');\n",
              "      progress.max = size;\n",
              "      div.appendChild(progress);\n",
              "      document.body.appendChild(div);\n",
              "\n",
              "      const buffers = [];\n",
              "      let downloaded = 0;\n",
              "\n",
              "      const channel = await google.colab.kernel.comms.open(id);\n",
              "      // Send a message to notify the kernel that we're ready.\n",
              "      channel.send({})\n",
              "\n",
              "      for await (const message of channel.messages) {\n",
              "        // Send a message to notify the kernel that we're ready.\n",
              "        channel.send({})\n",
              "        if (message.buffers) {\n",
              "          for (const buffer of message.buffers) {\n",
              "            buffers.push(buffer);\n",
              "            downloaded += buffer.byteLength;\n",
              "            progress.value = downloaded;\n",
              "          }\n",
              "        }\n",
              "      }\n",
              "      const blob = new Blob(buffers, {type: 'application/binary'});\n",
              "      const a = document.createElement('a');\n",
              "      a.href = window.URL.createObjectURL(blob);\n",
              "      a.download = filename;\n",
              "      div.appendChild(a);\n",
              "      a.click();\n",
              "      div.remove();\n",
              "    }\n",
              "  "
            ]
          },
          "metadata": {}
        },
        {
          "output_type": "display_data",
          "data": {
            "text/plain": [
              "<IPython.core.display.Javascript object>"
            ],
            "application/javascript": [
              "download(\"download_7d7855c4-5c8c-48dc-bbda-d7156c1b4772\", \"train_df.csv\", 353906504)"
            ]
          },
          "metadata": {}
        }
      ]
    },
    {
      "cell_type": "markdown",
      "source": [
        "## Remove outlier based on text length"
      ],
      "metadata": {
        "id": "TaRo9qhEVtaJ"
      }
    },
    {
      "cell_type": "code",
      "source": [
        "# shape before outlier removed\n",
        "train_df.shape"
      ],
      "metadata": {
        "colab": {
          "base_uri": "https://localhost:8080/"
        },
        "id": "np3n9SpBWIL7",
        "outputId": "465b350c-b034-4a51-b446-6383040ced61"
      },
      "execution_count": 51,
      "outputs": [
        {
          "output_type": "execute_result",
          "data": {
            "text/plain": [
              "(193883, 3)"
            ]
          },
          "metadata": {},
          "execution_count": 51
        }
      ]
    },
    {
      "cell_type": "code",
      "source": [
        "# prompt: see the outliers from train_df\n",
        "\n",
        "import matplotlib.pyplot as plt\n",
        "import seaborn as sns\n",
        "\n",
        "# Calculate the IQR for each column\n",
        "Q1_original_text = train_df['original_text'].apply(lambda x: len(str(x).split())).quantile(0.25)\n",
        "Q3_original_text = train_df['original_text'].apply(lambda x: len(str(x).split())).quantile(0.75)\n",
        "IQR_original_text = Q3_original_text - Q1_original_text\n",
        "lower_bound_original_text = Q1_original_text - 1.5 * IQR_original_text\n",
        "upper_bound_original_text = Q3_original_text + 1.5 * IQR_original_text\n",
        "\n",
        "Q1_abstractive_summary = train_df['abstractive_summary'].apply(lambda x: len(str(x).split())).quantile(0.25)\n",
        "Q3_abstractive_summary = train_df['abstractive_summary'].apply(lambda x: len(str(x).split())).quantile(0.75)\n",
        "IQR_abstractive_summary = Q3_abstractive_summary - Q1_abstractive_summary\n",
        "lower_bound_abstractive_summary = Q1_abstractive_summary - 1.5 * IQR_abstractive_summary\n",
        "upper_bound_abstractive_summary = Q3_abstractive_summary + 1.5 * IQR_abstractive_summary\n",
        "\n",
        "\n",
        "Q1_extractive_summary = train_df['extractive_summary'].apply(lambda x: len(str(x).split())).quantile(0.25)\n",
        "Q3_extractive_summary = train_df['extractive_summary'].apply(lambda x: len(str(x).split())).quantile(0.75)\n",
        "IQR_extractive_summary = Q3_extractive_summary - Q1_extractive_summary\n",
        "lower_bound_extractive_summary = Q1_extractive_summary - 1.5 * IQR_extractive_summary\n",
        "upper_bound_extractive_summary = Q3_extractive_summary + 1.5 * IQR_extractive_summary\n",
        "\n",
        "\n",
        "# Find rows with outliers in 'text_length', 'summary_length', and 'e_summary_length'\n",
        "outliers = train_df[\n",
        "    ~(train_df['original_text'].apply(lambda x: len(str(x).split())).between(lower_bound_original_text, upper_bound_original_text) &\n",
        "      train_df['abstractive_summary'].apply(lambda x: len(str(x).split())).between(lower_bound_abstractive_summary, upper_bound_abstractive_summary) &\n",
        "      train_df['extractive_summary'].apply(lambda x: len(str(x).split())).between(lower_bound_extractive_summary, upper_bound_extractive_summary))\n",
        "]\n",
        "\n",
        "print(\"Outliers in train_df:\")\n",
        "print(outliers)"
      ],
      "metadata": {
        "colab": {
          "base_uri": "https://localhost:8080/"
        },
        "id": "3Jdlnz0qV6KY",
        "outputId": "30e80b1b-2653-4b4f-d9ed-140688d07a7a"
      },
      "execution_count": 68,
      "outputs": [
        {
          "output_type": "stream",
          "name": "stdout",
          "text": [
            "Outliers in train_df:\n",
            "Empty DataFrame\n",
            "Columns: [original_text, abstractive_summary, extractive_summary, original_text_length, abstractive_summary_length, extractive_summary_length]\n",
            "Index: []\n"
          ]
        }
      ]
    },
    {
      "cell_type": "code",
      "source": [
        "# delete those rows as outlier in train_df\n",
        "\n",
        "# Remove rows with outliers\n",
        "train_df = train_df[\n",
        "    train_df['original_text'].apply(lambda x: len(str(x).split())).between(lower_bound_original_text, upper_bound_original_text) &\n",
        "    train_df['abstractive_summary'].apply(lambda x: len(str(x).split())).between(lower_bound_abstractive_summary, upper_bound_abstractive_summary) &\n",
        "    train_df['extractive_summary'].apply(lambda x: len(str(x).split())).between(lower_bound_extractive_summary, upper_bound_extractive_summary)\n",
        "]\n",
        "\n",
        "print(\"DataFrame shape after removing outliers:\", train_df.shape)"
      ],
      "metadata": {
        "colab": {
          "base_uri": "https://localhost:8080/"
        },
        "id": "LnMEP5xsXolj",
        "outputId": "cd316a85-9514-4700-8a0b-0910521c5b38"
      },
      "execution_count": 69,
      "outputs": [
        {
          "output_type": "stream",
          "name": "stdout",
          "text": [
            "DataFrame shape after removing outliers: (159844, 6)\n"
          ]
        }
      ]
    },
    {
      "cell_type": "code",
      "source": [
        "# make a boxplot based on train_df for column original_text, abstractive_summary, and extractive_summary\n",
        "\n",
        "plt.figure(figsize=(12, 6))\n",
        "train_df['original_text_length'] = train_df['original_text'].apply(lambda x: len(str(x).split()))\n",
        "train_df['abstractive_summary_length'] = train_df['abstractive_summary'].apply(lambda x: len(str(x).split()))\n",
        "train_df['extractive_summary_length'] = train_df['extractive_summary'].apply(lambda x: len(str(x).split()))\n",
        "sns.boxplot(data=train_df[['original_text_length', 'abstractive_summary_length', 'extractive_summary_length']])\n",
        "plt.title('Box Plot of Word Length for Original Text, Abstractive Summary, and Extractive Summary')\n",
        "plt.ylabel('Word Count')\n",
        "plt.show()\n"
      ],
      "metadata": {
        "colab": {
          "base_uri": "https://localhost:8080/",
          "height": 773
        },
        "id": "vVRtgB4LXooB",
        "outputId": "904f2eab-d05e-497a-ff2f-e9572461c781"
      },
      "execution_count": 70,
      "outputs": [
        {
          "output_type": "stream",
          "name": "stderr",
          "text": [
            "/usr/local/lib/python3.10/dist-packages/seaborn/_base.py:949: FutureWarning: When grouping with a length-1 list-like, you will need to pass a length-1 tuple to get_group in a future version of pandas. Pass `(name,)` instead of `name` to silence this warning.\n",
            "  data_subset = grouped_data.get_group(pd_key)\n",
            "/usr/local/lib/python3.10/dist-packages/seaborn/categorical.py:640: FutureWarning: SeriesGroupBy.grouper is deprecated and will be removed in a future version of pandas.\n",
            "  positions = grouped.grouper.result_index.to_numpy(dtype=float)\n",
            "/usr/local/lib/python3.10/dist-packages/seaborn/_base.py:949: FutureWarning: When grouping with a length-1 list-like, you will need to pass a length-1 tuple to get_group in a future version of pandas. Pass `(name,)` instead of `name` to silence this warning.\n",
            "  data_subset = grouped_data.get_group(pd_key)\n",
            "/usr/local/lib/python3.10/dist-packages/seaborn/categorical.py:640: FutureWarning: SeriesGroupBy.grouper is deprecated and will be removed in a future version of pandas.\n",
            "  positions = grouped.grouper.result_index.to_numpy(dtype=float)\n",
            "/usr/local/lib/python3.10/dist-packages/seaborn/_base.py:949: FutureWarning: When grouping with a length-1 list-like, you will need to pass a length-1 tuple to get_group in a future version of pandas. Pass `(name,)` instead of `name` to silence this warning.\n",
            "  data_subset = grouped_data.get_group(pd_key)\n",
            "/usr/local/lib/python3.10/dist-packages/seaborn/categorical.py:640: FutureWarning: SeriesGroupBy.grouper is deprecated and will be removed in a future version of pandas.\n",
            "  positions = grouped.grouper.result_index.to_numpy(dtype=float)\n"
          ]
        },
        {
          "output_type": "display_data",
          "data": {
            "text/plain": [
              "<Figure size 1200x600 with 1 Axes>"
            ],
            "image/png": "[encoded data removed]"
          },
          "metadata": {}
        }
      ]
    },
    {
      "cell_type": "code",
      "source": [
        "# drop column original_text_length, abstractive_summary_length, extractive_summary_length\n",
        "\n",
        "#train_df = train_df.drop(['original_text_length', 'abstractive_summary_length', 'extractive_summary_length'], axis=1)\n"
      ],
      "metadata": {
        "id": "DLiygNwsaMcg"
      },
      "execution_count": 79,
      "outputs": []
    },
    {
      "cell_type": "code",
      "source": [
        "train_df.shape"
      ],
      "metadata": {
        "colab": {
          "base_uri": "https://localhost:8080/"
        },
        "id": "Tz6esJSFZvl9",
        "outputId": "f188a7b2-1e1c-40e3-f4ec-1397ef22f9f9"
      },
      "execution_count": 84,
      "outputs": [
        {
          "output_type": "execute_result",
          "data": {
            "text/plain": [
              "(159844, 3)"
            ]
          },
          "metadata": {},
          "execution_count": 84
        }
      ]
    },
    {
      "cell_type": "code",
      "source": [
        "# download train_df with no outlier into csv in my local\n",
        "from google.colab import files\n",
        "\n",
        "train_df.to_csv('train_df.csv', encoding = 'utf-8-sig')\n",
        "files.download('train_df.csv')"
      ],
      "metadata": {
        "colab": {
          "base_uri": "https://localhost:8080/",
          "height": 17
        },
        "id": "tivI6zXRaill",
        "outputId": "906191e0-f80a-4b62-de59-30821b27847a"
      },
      "execution_count": 85,
      "outputs": [
        {
          "output_type": "display_data",
          "data": {
            "text/plain": [
              "<IPython.core.display.Javascript object>"
            ],
            "application/javascript": [
              "\n",
              "    async function download(id, filename, size) {\n",
              "      if (!google.colab.kernel.accessAllowed) {\n",
              "        return;\n",
              "      }\n",
              "      const div = document.createElement('div');\n",
              "      const label = document.createElement('label');\n",
              "      label.textContent = `Downloading \"${filename}\": `;\n",
              "      div.appendChild(label);\n",
              "      const progress = document.createElement('progress');\n",
              "      progress.max = size;\n",
              "      div.appendChild(progress);\n",
              "      document.body.appendChild(div);\n",
              "\n",
              "      const buffers = [];\n",
              "      let downloaded = 0;\n",
              "\n",
              "      const channel = await google.colab.kernel.comms.open(id);\n",
              "      // Send a message to notify the kernel that we're ready.\n",
              "      channel.send({})\n",
              "\n",
              "      for await (const message of channel.messages) {\n",
              "        // Send a message to notify the kernel that we're ready.\n",
              "        channel.send({})\n",
              "        if (message.buffers) {\n",
              "          for (const buffer of message.buffers) {\n",
              "            buffers.push(buffer);\n",
              "            downloaded += buffer.byteLength;\n",
              "            progress.value = downloaded;\n",
              "          }\n",
              "        }\n",
              "      }\n",
              "      const blob = new Blob(buffers, {type: 'application/binary'});\n",
              "      const a = document.createElement('a');\n",
              "      a.href = window.URL.createObjectURL(blob);\n",
              "      a.download = filename;\n",
              "      div.appendChild(a);\n",
              "      a.click();\n",
              "      div.remove();\n",
              "    }\n",
              "  "
            ]
          },
          "metadata": {}
        },
        {
          "output_type": "display_data",
          "data": {
            "text/plain": [
              "<IPython.core.display.Javascript object>"
            ],
            "application/javascript": [
              "download(\"download_2f688572-7c40-462d-9d49-b4e399316b62\", \"train_df.csv\", 259922637)"
            ]
          },
          "metadata": {}
        }
      ]
    },
    {
      "cell_type": "markdown",
      "source": [
        "## random sampling 20k row train_df"
      ],
      "metadata": {
        "id": "RCZfSn9AZY1V"
      }
    },
    {
      "cell_type": "code",
      "source": [
        "# random sampling 20.000 data from train_df\n",
        "\n",
        "sampled_train_df = train_df.sample(n=30000, random_state=42)\n"
      ],
      "metadata": {
        "id": "gQa9BdsaZhMa"
      },
      "execution_count": 96,
      "outputs": []
    },
    {
      "cell_type": "code",
      "source": [
        "sampled_train_df.shape"
      ],
      "metadata": {
        "colab": {
          "base_uri": "https://localhost:8080/"
        },
        "id": "ed__jhG7ZhSl",
        "outputId": "7b4655f9-878b-4f00-a47c-dc79504a31fa"
      },
      "execution_count": 97,
      "outputs": [
        {
          "output_type": "execute_result",
          "data": {
            "text/plain": [
              "(30000, 3)"
            ]
          },
          "metadata": {},
          "execution_count": 97
        }
      ]
    },
    {
      "cell_type": "code",
      "source": [
        "# prompt: see the outliers from train_df\n",
        "\n",
        "import matplotlib.pyplot as plt\n",
        "import seaborn as sns\n",
        "\n",
        "# Calculate the IQR for each column\n",
        "Q1_original_text = sampled_train_df['original_text'].apply(lambda x: len(str(x).split())).quantile(0.25)\n",
        "Q3_original_text = sampled_train_df['original_text'].apply(lambda x: len(str(x).split())).quantile(0.75)\n",
        "IQR_original_text = Q3_original_text - Q1_original_text\n",
        "lower_bound_original_text = Q1_original_text - 1.5 * IQR_original_text\n",
        "upper_bound_original_text = Q3_original_text + 1.5 * IQR_original_text\n",
        "\n",
        "Q1_abstractive_summary = sampled_train_df['abstractive_summary'].apply(lambda x: len(str(x).split())).quantile(0.25)\n",
        "Q3_abstractive_summary = sampled_train_df['abstractive_summary'].apply(lambda x: len(str(x).split())).quantile(0.75)\n",
        "IQR_abstractive_summary = Q3_abstractive_summary - Q1_abstractive_summary\n",
        "lower_bound_abstractive_summary = Q1_abstractive_summary - 1.5 * IQR_abstractive_summary\n",
        "upper_bound_abstractive_summary = Q3_abstractive_summary + 1.5 * IQR_abstractive_summary\n",
        "\n",
        "\n",
        "Q1_extractive_summary = sampled_train_df['extractive_summary'].apply(lambda x: len(str(x).split())).quantile(0.25)\n",
        "Q3_extractive_summary = sampled_train_df['extractive_summary'].apply(lambda x: len(str(x).split())).quantile(0.75)\n",
        "IQR_extractive_summary = Q3_extractive_summary - Q1_extractive_summary\n",
        "lower_bound_extractive_summary = Q1_extractive_summary - 1.5 * IQR_extractive_summary\n",
        "upper_bound_extractive_summary = Q3_extractive_summary + 1.5 * IQR_extractive_summary\n",
        "\n",
        "\n",
        "# Find rows with outliers in 'text_length', 'summary_length', and 'e_summary_length'\n",
        "outliers = sampled_train_df[\n",
        "    ~(sampled_train_df['original_text'].apply(lambda x: len(str(x).split())).between(lower_bound_original_text, upper_bound_original_text) &\n",
        "      sampled_train_df['abstractive_summary'].apply(lambda x: len(str(x).split())).between(lower_bound_abstractive_summary, upper_bound_abstractive_summary) &\n",
        "      sampled_train_df['extractive_summary'].apply(lambda x: len(str(x).split())).between(lower_bound_extractive_summary, upper_bound_extractive_summary))\n",
        "]\n",
        "\n",
        "print(\"Outliers in train_df:\")\n",
        "print(outliers)"
      ],
      "metadata": {
        "colab": {
          "base_uri": "https://localhost:8080/"
        },
        "outputId": "81e64d04-8e66-423e-a2a1-c5b798d5dd19",
        "id": "QP1zdHKba7k5"
      },
      "execution_count": 104,
      "outputs": [
        {
          "output_type": "stream",
          "name": "stdout",
          "text": [
            "Outliers in train_df:\n",
            "Empty DataFrame\n",
            "Columns: [original_text, abstractive_summary, extractive_summary, original_text_length, abstractive_summary_length, extractive_summary_length]\n",
            "Index: []\n"
          ]
        }
      ]
    },
    {
      "cell_type": "code",
      "source": [
        "# delete those rows as outlier in train_df\n",
        "\n",
        "# Remove rows with outliers\n",
        "sampled_train_df = sampled_train_df[\n",
        "    sampled_train_df['original_text'].apply(lambda x: len(str(x).split())).between(lower_bound_original_text, upper_bound_original_text) &\n",
        "    sampled_train_df['abstractive_summary'].apply(lambda x: len(str(x).split())).between(lower_bound_abstractive_summary, upper_bound_abstractive_summary) &\n",
        "    sampled_train_df['extractive_summary'].apply(lambda x: len(str(x).split())).between(lower_bound_extractive_summary, upper_bound_extractive_summary)\n",
        "]\n",
        "\n",
        "print(\"DataFrame shape after removing outliers:\", sampled_train_df.shape)"
      ],
      "metadata": {
        "colab": {
          "base_uri": "https://localhost:8080/"
        },
        "outputId": "95f76b73-3225-475f-c946-0b7d8e34e86d",
        "id": "3bfCkdhya7k6"
      },
      "execution_count": 105,
      "outputs": [
        {
          "output_type": "stream",
          "name": "stdout",
          "text": [
            "DataFrame shape after removing outliers: (29842, 6)\n"
          ]
        }
      ]
    },
    {
      "cell_type": "code",
      "source": [
        "# make a boxplot based on train_df for column original_text, abstractive_summary, and extractive_summary\n",
        "\n",
        "plt.figure(figsize=(12, 6))\n",
        "sampled_train_df['original_text_length'] = sampled_train_df['original_text'].apply(lambda x: len(str(x).split()))\n",
        "sampled_train_df['abstractive_summary_length'] = sampled_train_df['abstractive_summary'].apply(lambda x: len(str(x).split()))\n",
        "sampled_train_df['extractive_summary_length'] = sampled_train_df['extractive_summary'].apply(lambda x: len(str(x).split()))\n",
        "sns.boxplot(data=sampled_train_df[['original_text_length', 'abstractive_summary_length', 'extractive_summary_length']])\n",
        "plt.title('Box Plot of Word Length for Original Text, Abstractive Summary, and Extractive Summary')\n",
        "plt.ylabel('Word Count')\n",
        "plt.show()\n"
      ],
      "metadata": {
        "colab": {
          "base_uri": "https://localhost:8080/",
          "height": 756
        },
        "id": "AHhos8s8auHx",
        "outputId": "bbb4aafc-8fdc-4231-bb22-f9030f4ac097"
      },
      "execution_count": 106,
      "outputs": [
        {
          "output_type": "stream",
          "name": "stderr",
          "text": [
            "/usr/local/lib/python3.10/dist-packages/seaborn/_base.py:949: FutureWarning: When grouping with a length-1 list-like, you will need to pass a length-1 tuple to get_group in a future version of pandas. Pass `(name,)` instead of `name` to silence this warning.\n",
            "  data_subset = grouped_data.get_group(pd_key)\n",
            "/usr/local/lib/python3.10/dist-packages/seaborn/categorical.py:640: FutureWarning: SeriesGroupBy.grouper is deprecated and will be removed in a future version of pandas.\n",
            "  positions = grouped.grouper.result_index.to_numpy(dtype=float)\n",
            "/usr/local/lib/python3.10/dist-packages/seaborn/_base.py:949: FutureWarning: When grouping with a length-1 list-like, you will need to pass a length-1 tuple to get_group in a future version of pandas. Pass `(name,)` instead of `name` to silence this warning.\n",
            "  data_subset = grouped_data.get_group(pd_key)\n",
            "/usr/local/lib/python3.10/dist-packages/seaborn/categorical.py:640: FutureWarning: SeriesGroupBy.grouper is deprecated and will be removed in a future version of pandas.\n",
            "  positions = grouped.grouper.result_index.to_numpy(dtype=float)\n",
            "/usr/local/lib/python3.10/dist-packages/seaborn/_base.py:949: FutureWarning: When grouping with a length-1 list-like, you will need to pass a length-1 tuple to get_group in a future version of pandas. Pass `(name,)` instead of `name` to silence this warning.\n",
            "  data_subset = grouped_data.get_group(pd_key)\n",
            "/usr/local/lib/python3.10/dist-packages/seaborn/categorical.py:640: FutureWarning: SeriesGroupBy.grouper is deprecated and will be removed in a future version of pandas.\n",
            "  positions = grouped.grouper.result_index.to_numpy(dtype=float)\n"
          ]
        },
        {
          "output_type": "display_data",
          "data": {
            "text/plain": [
              "<Figure size 1200x600 with 1 Axes>"
            ],
            "image/png": "[encoded data removed]"
          },
          "metadata": {}
        }
      ]
    },
    {
      "cell_type": "code",
      "source": [
        "sampled_train_df.shape"
      ],
      "metadata": {
        "colab": {
          "base_uri": "https://localhost:8080/"
        },
        "id": "np3uG1IXcEkF",
        "outputId": "a021eda5-99cc-4d99-81aa-92dbcf1b1484"
      },
      "execution_count": 107,
      "outputs": [
        {
          "output_type": "execute_result",
          "data": {
            "text/plain": [
              "(29842, 6)"
            ]
          },
          "metadata": {},
          "execution_count": 107
        }
      ]
    },
    {
      "cell_type": "code",
      "source": [
        "# download sampled_train_df with 20k data with no outlier into csv in my local\n",
        "from google.colab import files\n",
        "\n",
        "sampled_train_df.to_csv('train_df.csv', encoding = 'utf-8-sig')\n",
        "files.download('train_df.csv')"
      ],
      "metadata": {
        "colab": {
          "base_uri": "https://localhost:8080/",
          "height": 17
        },
        "id": "4TEZq1UwbTMX",
        "outputId": "b3fc6cef-5a05-4a14-df73-be42c0c98ab6"
      },
      "execution_count": 108,
      "outputs": [
        {
          "output_type": "display_data",
          "data": {
            "text/plain": [
              "<IPython.core.display.Javascript object>"
            ],
            "application/javascript": [
              "\n",
              "    async function download(id, filename, size) {\n",
              "      if (!google.colab.kernel.accessAllowed) {\n",
              "        return;\n",
              "      }\n",
              "      const div = document.createElement('div');\n",
              "      const label = document.createElement('label');\n",
              "      label.textContent = `Downloading \"${filename}\": `;\n",
              "      div.appendChild(label);\n",
              "      const progress = document.createElement('progress');\n",
              "      progress.max = size;\n",
              "      div.appendChild(progress);\n",
              "      document.body.appendChild(div);\n",
              "\n",
              "      const buffers = [];\n",
              "      let downloaded = 0;\n",
              "\n",
              "      const channel = await google.colab.kernel.comms.open(id);\n",
              "      // Send a message to notify the kernel that we're ready.\n",
              "      channel.send({})\n",
              "\n",
              "      for await (const message of channel.messages) {\n",
              "        // Send a message to notify the kernel that we're ready.\n",
              "        channel.send({})\n",
              "        if (message.buffers) {\n",
              "          for (const buffer of message.buffers) {\n",
              "            buffers.push(buffer);\n",
              "            downloaded += buffer.byteLength;\n",
              "            progress.value = downloaded;\n",
              "          }\n",
              "        }\n",
              "      }\n",
              "      const blob = new Blob(buffers, {type: 'application/binary'});\n",
              "      const a = document.createElement('a');\n",
              "      a.href = window.URL.createObjectURL(blob);\n",
              "      a.download = filename;\n",
              "      div.appendChild(a);\n",
              "      a.click();\n",
              "      div.remove();\n",
              "    }\n",
              "  "
            ]
          },
          "metadata": {}
        },
        {
          "output_type": "display_data",
          "data": {
            "text/plain": [
              "<IPython.core.display.Javascript object>"
            ],
            "application/javascript": [
              "download(\"download_31f9c22b-fd2d-4847-afcd-ad9e158cd858\", \"train_df.csv\", 48489371)"
            ]
          },
          "metadata": {}
        }
      ]
    },
    {
      "cell_type": "markdown",
      "source": [
        "# Prepare the DEV_CSV"
      ],
      "metadata": {
        "id": "n74Ste7bMdl7"
      }
    },
    {
      "cell_type": "markdown",
      "source": [
        "## preparing column, convert to normal text"
      ],
      "metadata": {
        "id": "Z-OxuKDzTTeE"
      }
    },
    {
      "cell_type": "code",
      "source": [
        "import pandas as pd"
      ],
      "metadata": {
        "id": "3SmKktlATTeE"
      },
      "execution_count": 22,
      "outputs": []
    },
    {
      "cell_type": "code",
      "execution_count": 33,
      "metadata": {
        "collapsed": true,
        "id": "BFTUQFyhTTeE"
      },
      "outputs": [],
      "source": [
        "dev_df = pd.read_csv('/content/drive/MyDrive/Bootcamp AI/Dataset/Task2 : Text Summarization/normalized_dataset/dev_normalized.csv')"
      ]
    },
    {
      "cell_type": "code",
      "source": [
        "dev_df.iloc[1]"
      ],
      "metadata": {
        "colab": {
          "base_uri": "https://localhost:8080/",
          "height": 366
        },
        "outputId": "f3f09b4e-b4da-461b-9ea1-fc490952d585",
        "id": "zb0D8MObTTeE"
      },
      "execution_count": 34,
      "outputs": [
        {
          "output_type": "execute_result",
          "data": {
            "text/plain": [
              "id                                                                        10628\n",
              "url                           https://www.liputan6.com/news/read/10628/pengu...\n",
              "clean_article                 [['Liputan6', '.', 'com', ',', 'Surabaya', ':'...\n",
              "clean_summary                 [['Gubernur', 'Jawa', 'Timur', 'meminta', 'par...\n",
              "extractive_summary                                                       [2, 3]\n",
              "rebuilt_extractive_summary    [['Hingga', 'kini', ',', 'ada', 'sekitar', '90...\n",
              "text                            liputan6       com       surabaya       toko...\n",
              "summary                         gubernur   jawa   timur   minta   para   gub...\n",
              "e_summary                     hingga kini  ada sekitar 90 ribu ungsi masuk k...\n",
              "Name: 1, dtype: object"
            ],
            "text/html": [
              "<div>\n",
              "<style scoped>\n",
              "    .dataframe tbody tr th:only-of-type {\n",
              "        vertical-align: middle;\n",
              "    }\n",
              "\n",
              "    .dataframe tbody tr th {\n",
              "        vertical-align: top;\n",
              "    }\n",
              "\n",
              "    .dataframe thead th {\n",
              "        text-align: right;\n",
              "    }\n",
              "</style>\n",
              "<table border=\"1\" class=\"dataframe\">\n",
              "  <thead>\n",
              "    <tr style=\"text-align: right;\">\n",
              "      <th></th>\n",
              "      <th>1</th>\n",
              "    </tr>\n",
              "  </thead>\n",
              "  <tbody>\n",
              "    <tr>\n",
              "      <th>id</th>\n",
              "      <td>10628</td>\n",
              "    </tr>\n",
              "    <tr>\n",
              "      <th>url</th>\n",
              "      <td>https://www.liputan6.com/news/read/10628/pengu...</td>\n",
              "    </tr>\n",
              "    <tr>\n",
              "      <th>clean_article</th>\n",
              "      <td>[['Liputan6', '.', 'com', ',', 'Surabaya', ':'...</td>\n",
              "    </tr>\n",
              "    <tr>\n",
              "      <th>clean_summary</th>\n",
              "      <td>[['Gubernur', 'Jawa', 'Timur', 'meminta', 'par...</td>\n",
              "    </tr>\n",
              "    <tr>\n",
              "      <th>extractive_summary</th>\n",
              "      <td>[2, 3]</td>\n",
              "    </tr>\n",
              "    <tr>\n",
              "      <th>rebuilt_extractive_summary</th>\n",
              "      <td>[['Hingga', 'kini', ',', 'ada', 'sekitar', '90...</td>\n",
              "    </tr>\n",
              "    <tr>\n",
              "      <th>text</th>\n",
              "      <td>liputan6       com       surabaya       toko...</td>\n",
              "    </tr>\n",
              "    <tr>\n",
              "      <th>summary</th>\n",
              "      <td>gubernur   jawa   timur   minta   para   gub...</td>\n",
              "    </tr>\n",
              "    <tr>\n",
              "      <th>e_summary</th>\n",
              "      <td>hingga kini  ada sekitar 90 ribu ungsi masuk k...</td>\n",
              "    </tr>\n",
              "  </tbody>\n",
              "</table>\n",
              "</div><br><label><b>dtype:</b> object</label>"
            ]
          },
          "metadata": {},
          "execution_count": 34
        }
      ]
    },
    {
      "cell_type": "code",
      "source": [
        "# drop the column \"extractive_summary\", \"text, \"summary\", and \"e_summary\"\n",
        "dev_df = dev_df.drop(['id', 'url', 'extractive_summary', 'text', 'summary', 'e_summary'], axis=1)"
      ],
      "metadata": {
        "id": "BdIrhz6FTTeE"
      },
      "execution_count": 35,
      "outputs": []
    },
    {
      "cell_type": "code",
      "source": [
        "# rename the column \"clean_article\" into \"original_text\"\n",
        "dev_df = dev_df.rename(columns={\"clean_article\": \"original_text\"})\n",
        "dev_df = dev_df.rename(columns={\"clean_summary\": \"abstractive_summary\"})\n",
        "dev_df = dev_df.rename(columns={\"rebuilt_extractive_summary\": \"extractive_summary\"})"
      ],
      "metadata": {
        "id": "ygpuzqaMTTeF"
      },
      "execution_count": 36,
      "outputs": []
    },
    {
      "cell_type": "code",
      "source": [
        "import re\n",
        "\n",
        "def clean_text(text):\n",
        "    # Remove URL + lowercase\n",
        "    text = re.sub(r'#(\\w+)', lambda match: ' ' + re.sub(r'(?<=[a-z0-9])(?=[A-Z])', ' ', match.group(1)), text)\n",
        "    text = text.lower()\n",
        "\n",
        "    # Remove special characters and punctuation\n",
        "    text = re.sub(r'[^\\w\\s]', ' ', text)\n",
        "    text = re.sub(r'[^a-zA-Z0-9\\s]', ' ', text)\n",
        "\n",
        "    # Remove extra whitespace\n",
        "    text = re.sub(r'\\s+', ' ', text).strip()\n",
        "\n",
        "    return text\n",
        "\n",
        "# Apply the function to create new columns\n",
        "dev_df['original_text'] = dev_df['original_text'].apply(clean_text)\n",
        "dev_df['abstractive_summary'] = dev_df['abstractive_summary'].apply(clean_text)\n",
        "dev_df['extractive_summary'] = dev_df['extractive_summary'].apply(clean_text)"
      ],
      "metadata": {
        "id": "Ul9kOCKXTTeF"
      },
      "execution_count": 37,
      "outputs": []
    },
    {
      "cell_type": "code",
      "source": [
        "dev_df.head()"
      ],
      "metadata": {
        "colab": {
          "base_uri": "https://localhost:8080/",
          "height": 293
        },
        "collapsed": true,
        "outputId": "ee040a6f-77f3-4a32-e466-3bc6a3c30068",
        "id": "TQfvjHeyTTeF"
      },
      "execution_count": 38,
      "outputs": [
        {
          "output_type": "execute_result",
          "data": {
            "text/plain": [
              "                                       original_text  \\\n",
              "0  liputan6 com jakarta sejumlah tokoh masyarakat...   \n",
              "1  liputan6 com surabaya tokoh madura dan kaliman...   \n",
              "2  liputan6 com medan ratusan kepala keluarga nya...   \n",
              "3  liputan6 com jakarta basilio araujo salah seor...   \n",
              "4  liputan6 com jakarta harga sembilan bahan poko...   \n",
              "\n",
              "                                 abstractive_summary  \\\n",
              "0  sejumlah tokoh masyarakat riau membantah perny...   \n",
              "1  gubernur jawa timur meminta para gubernur se k...   \n",
              "2  warga binjai timur sumut nyaris bentrok dengan...   \n",
              "3  tokoh prointegrasi timtim menduga surat yang m...   \n",
              "4  harga sembako merangkak naik para pedagang di ...   \n",
              "\n",
              "                                  extractive_summary  \n",
              "0  liputan6 com jakarta sejumlah tokoh masyarakat...  \n",
              "1  hingga kini ada sekitar 90 ribu pengungsi masu...  \n",
              "2  liputan6 com medan ratusan kepala keluarga nya...  \n",
              "3  sebab sejumlah nama yang disebut sebut dalam s...  \n",
              "4  kendati demikian para pedagang memperkirakan k...  "
            ],
            "text/html": [
              "\n",
              "  <div id=\"df-9a4a4f26-0899-4e01-a632-cf66b4640705\" class=\"colab-df-container\">\n",
              "    <div>\n",
              "<style scoped>\n",
              "    .dataframe tbody tr th:only-of-type {\n",
              "        vertical-align: middle;\n",
              "    }\n",
              "\n",
              "    .dataframe tbody tr th {\n",
              "        vertical-align: top;\n",
              "    }\n",
              "\n",
              "    .dataframe thead th {\n",
              "        text-align: right;\n",
              "    }\n",
              "</style>\n",
              "<table border=\"1\" class=\"dataframe\">\n",
              "  <thead>\n",
              "    <tr style=\"text-align: right;\">\n",
              "      <th></th>\n",
              "      <th>original_text</th>\n",
              "      <th>abstractive_summary</th>\n",
              "      <th>extractive_summary</th>\n",
              "    </tr>\n",
              "  </thead>\n",
              "  <tbody>\n",
              "    <tr>\n",
              "      <th>0</th>\n",
              "      <td>liputan6 com jakarta sejumlah tokoh masyarakat...</td>\n",
              "      <td>sejumlah tokoh masyarakat riau membantah perny...</td>\n",
              "      <td>liputan6 com jakarta sejumlah tokoh masyarakat...</td>\n",
              "    </tr>\n",
              "    <tr>\n",
              "      <th>1</th>\n",
              "      <td>liputan6 com surabaya tokoh madura dan kaliman...</td>\n",
              "      <td>gubernur jawa timur meminta para gubernur se k...</td>\n",
              "      <td>hingga kini ada sekitar 90 ribu pengungsi masu...</td>\n",
              "    </tr>\n",
              "    <tr>\n",
              "      <th>2</th>\n",
              "      <td>liputan6 com medan ratusan kepala keluarga nya...</td>\n",
              "      <td>warga binjai timur sumut nyaris bentrok dengan...</td>\n",
              "      <td>liputan6 com medan ratusan kepala keluarga nya...</td>\n",
              "    </tr>\n",
              "    <tr>\n",
              "      <th>3</th>\n",
              "      <td>liputan6 com jakarta basilio araujo salah seor...</td>\n",
              "      <td>tokoh prointegrasi timtim menduga surat yang m...</td>\n",
              "      <td>sebab sejumlah nama yang disebut sebut dalam s...</td>\n",
              "    </tr>\n",
              "    <tr>\n",
              "      <th>4</th>\n",
              "      <td>liputan6 com jakarta harga sembilan bahan poko...</td>\n",
              "      <td>harga sembako merangkak naik para pedagang di ...</td>\n",
              "      <td>kendati demikian para pedagang memperkirakan k...</td>\n",
              "    </tr>\n",
              "  </tbody>\n",
              "</table>\n",
              "</div>\n",
              "    <div class=\"colab-df-buttons\">\n",
              "\n",
              "  <div class=\"colab-df-container\">\n",
              "    <button class=\"colab-df-convert\" onclick=\"convertToInteractive('df-9a4a4f26-0899-4e01-a632-cf66b4640705')\"\n",
              "            title=\"Convert this dataframe to an interactive table.\"\n",
              "            style=\"display:none;\">\n",
              "\n",
              "  <svg xmlns=\"http://www.w3.org/2000/svg\" height=\"24px\" viewBox=\"0 -960 960 960\">\n",
              "    <path d=\"M120-120v-720h720v720H120Zm60-500h600v-160H180v160Zm220 220h160v-160H400v160Zm0 220h160v-160H400v160ZM180-400h160v-160H180v160Zm440 0h160v-160H620v160ZM180-180h160v-160H180v160Zm440 0h160v-160H620v160Z\"/>\n",
              "  </svg>\n",
              "    </button>\n",
              "\n",
              "  <style>\n",
              "    .colab-df-container {\n",
              "      display:flex;\n",
              "      gap: 12px;\n",
              "    }\n",
              "\n",
              "    .colab-df-convert {\n",
              "      background-color: #E8F0FE;\n",
              "      border: none;\n",
              "      border-radius: 50%;\n",
              "      cursor: pointer;\n",
              "      display: none;\n",
              "      fill: #1967D2;\n",
              "      height: 32px;\n",
              "      padding: 0 0 0 0;\n",
              "      width: 32px;\n",
              "    }\n",
              "\n",
              "    .colab-df-convert:hover {\n",
              "      background-color: #E2EBFA;\n",
              "      box-shadow: 0px 1px 2px rgba(60, 64, 67, 0.3), 0px 1px 3px 1px rgba(60, 64, 67, 0.15);\n",
              "      fill: #174EA6;\n",
              "    }\n",
              "\n",
              "    .colab-df-buttons div {\n",
              "      margin-bottom: 4px;\n",
              "    }\n",
              "\n",
              "    [theme=dark] .colab-df-convert {\n",
              "      background-color: #3B4455;\n",
              "      fill: #D2E3FC;\n",
              "    }\n",
              "\n",
              "    [theme=dark] .colab-df-convert:hover {\n",
              "      background-color: #434B5C;\n",
              "      box-shadow: 0px 1px 3px 1px rgba(0, 0, 0, 0.15);\n",
              "      filter: drop-shadow(0px 1px 2px rgba(0, 0, 0, 0.3));\n",
              "      fill: #FFFFFF;\n",
              "    }\n",
              "  </style>\n",
              "\n",
              "    <script>\n",
              "      const buttonEl =\n",
              "        document.querySelector('#df-9a4a4f26-0899-4e01-a632-cf66b4640705 button.colab-df-convert');\n",
              "      buttonEl.style.display =\n",
              "        google.colab.kernel.accessAllowed ? 'block' : 'none';\n",
              "\n",
              "      async function convertToInteractive(key) {\n",
              "        const element = document.querySelector('#df-9a4a4f26-0899-4e01-a632-cf66b4640705');\n",
              "        const dataTable =\n",
              "          await google.colab.kernel.invokeFunction('convertToInteractive',\n",
              "                                                    [key], {});\n",
              "        if (!dataTable) return;\n",
              "\n",
              "        const docLinkHtml = 'Like what you see? Visit the ' +\n",
              "          '<a target=\"_blank\" href=https://colab.research.google.com/notebooks/data_table.ipynb>data table notebook</a>'\n",
              "          + ' to learn more about interactive tables.';\n",
              "        element.innerHTML = '';\n",
              "        dataTable['output_type'] = 'display_data';\n",
              "        await google.colab.output.renderOutput(dataTable, element);\n",
              "        const docLink = document.createElement('div');\n",
              "        docLink.innerHTML = docLinkHtml;\n",
              "        element.appendChild(docLink);\n",
              "      }\n",
              "    </script>\n",
              "  </div>\n",
              "\n",
              "\n",
              "<div id=\"df-81fbca2f-1093-46da-b62b-23c1fb2e95f5\">\n",
              "  <button class=\"colab-df-quickchart\" onclick=\"quickchart('df-81fbca2f-1093-46da-b62b-23c1fb2e95f5')\"\n",
              "            title=\"Suggest charts\"\n",
              "            style=\"display:none;\">\n",
              "\n",
              "<svg xmlns=\"http://www.w3.org/2000/svg\" height=\"24px\"viewBox=\"0 0 24 24\"\n",
              "     width=\"24px\">\n",
              "    <g>\n",
              "        <path d=\"M19 3H5c-1.1 0-2 .9-2 2v14c0 1.1.9 2 2 2h14c1.1 0 2-.9 2-2V5c0-1.1-.9-2-2-2zM9 17H7v-7h2v7zm4 0h-2V7h2v10zm4 0h-2v-4h2v4z\"/>\n",
              "    </g>\n",
              "</svg>\n",
              "  </button>\n",
              "\n",
              "<style>\n",
              "  .colab-df-quickchart {\n",
              "      --bg-color: #E8F0FE;\n",
              "      --fill-color: #1967D2;\n",
              "      --hover-bg-color: #E2EBFA;\n",
              "      --hover-fill-color: #174EA6;\n",
              "      --disabled-fill-color: #AAA;\n",
              "      --disabled-bg-color: #DDD;\n",
              "  }\n",
              "\n",
              "  [theme=dark] .colab-df-quickchart {\n",
              "      --bg-color: #3B4455;\n",
              "      --fill-color: #D2E3FC;\n",
              "      --hover-bg-color: #434B5C;\n",
              "      --hover-fill-color: #FFFFFF;\n",
              "      --disabled-bg-color: #3B4455;\n",
              "      --disabled-fill-color: #666;\n",
              "  }\n",
              "\n",
              "  .colab-df-quickchart {\n",
              "    background-color: var(--bg-color);\n",
              "    border: none;\n",
              "    border-radius: 50%;\n",
              "    cursor: pointer;\n",
              "    display: none;\n",
              "    fill: var(--fill-color);\n",
              "    height: 32px;\n",
              "    padding: 0;\n",
              "    width: 32px;\n",
              "  }\n",
              "\n",
              "  .colab-df-quickchart:hover {\n",
              "    background-color: var(--hover-bg-color);\n",
              "    box-shadow: 0 1px 2px rgba(60, 64, 67, 0.3), 0 1px 3px 1px rgba(60, 64, 67, 0.15);\n",
              "    fill: var(--button-hover-fill-color);\n",
              "  }\n",
              "\n",
              "  .colab-df-quickchart-complete:disabled,\n",
              "  .colab-df-quickchart-complete:disabled:hover {\n",
              "    background-color: var(--disabled-bg-color);\n",
              "    fill: var(--disabled-fill-color);\n",
              "    box-shadow: none;\n",
              "  }\n",
              "\n",
              "  .colab-df-spinner {\n",
              "    border: 2px solid var(--fill-color);\n",
              "    border-color: transparent;\n",
              "    border-bottom-color: var(--fill-color);\n",
              "    animation:\n",
              "      spin 1s steps(1) infinite;\n",
              "  }\n",
              "\n",
              "  @keyframes spin {\n",
              "    0% {\n",
              "      border-color: transparent;\n",
              "      border-bottom-color: var(--fill-color);\n",
              "      border-left-color: var(--fill-color);\n",
              "    }\n",
              "    20% {\n",
              "      border-color: transparent;\n",
              "      border-left-color: var(--fill-color);\n",
              "      border-top-color: var(--fill-color);\n",
              "    }\n",
              "    30% {\n",
              "      border-color: transparent;\n",
              "      border-left-color: var(--fill-color);\n",
              "      border-top-color: var(--fill-color);\n",
              "      border-right-color: var(--fill-color);\n",
              "    }\n",
              "    40% {\n",
              "      border-color: transparent;\n",
              "      border-right-color: var(--fill-color);\n",
              "      border-top-color: var(--fill-color);\n",
              "    }\n",
              "    60% {\n",
              "      border-color: transparent;\n",
              "      border-right-color: var(--fill-color);\n",
              "    }\n",
              "    80% {\n",
              "      border-color: transparent;\n",
              "      border-right-color: var(--fill-color);\n",
              "      border-bottom-color: var(--fill-color);\n",
              "    }\n",
              "    90% {\n",
              "      border-color: transparent;\n",
              "      border-bottom-color: var(--fill-color);\n",
              "    }\n",
              "  }\n",
              "</style>\n",
              "\n",
              "  <script>\n",
              "    async function quickchart(key) {\n",
              "      const quickchartButtonEl =\n",
              "        document.querySelector('#' + key + ' button');\n",
              "      quickchartButtonEl.disabled = true;  // To prevent multiple clicks.\n",
              "      quickchartButtonEl.classList.add('colab-df-spinner');\n",
              "      try {\n",
              "        const charts = await google.colab.kernel.invokeFunction(\n",
              "            'suggestCharts', [key], {});\n",
              "      } catch (error) {\n",
              "        console.error('Error during call to suggestCharts:', error);\n",
              "      }\n",
              "      quickchartButtonEl.classList.remove('colab-df-spinner');\n",
              "      quickchartButtonEl.classList.add('colab-df-quickchart-complete');\n",
              "    }\n",
              "    (() => {\n",
              "      let quickchartButtonEl =\n",
              "        document.querySelector('#df-81fbca2f-1093-46da-b62b-23c1fb2e95f5 button');\n",
              "      quickchartButtonEl.style.display =\n",
              "        google.colab.kernel.accessAllowed ? 'block' : 'none';\n",
              "    })();\n",
              "  </script>\n",
              "</div>\n",
              "\n",
              "    </div>\n",
              "  </div>\n"
            ],
            "application/vnd.google.colaboratory.intrinsic+json": {
              "type": "dataframe",
              "variable_name": "dev_df",
              "summary": "{\n  \"name\": \"dev_df\",\n  \"rows\": 10972,\n  \"fields\": [\n    {\n      \"column\": \"original_text\",\n      \"properties\": {\n        \"dtype\": \"string\",\n        \"num_unique_values\": 10960,\n        \"samples\": [\n          \"liputan6 com surabaya penyelundupan mobil mewah kembali terjadi baru baru ini polisi lalu lintas kepolisian resor kota surabaya selatan jawa timur berhasil mengamankan sebuah mobil jaguar tanpa surat surat resmi yang tengah melintas di jalan raya menurut pengemudinya mobil itu didatangkan dari selandia baru dengan harga rp 200 juta tanpa membayar pajak tertangkapnya satu unit mobil jaguar tipe 3 0 v6 ini bermula dari kecurigaan polisi yang melihat plat nomor mobil tersebut hanya dipasang dengan isolasi setelah diperiksa yoris enhosa pengemudi mobil itutak dapat menunjukkan surat surat kepemilikan yang sah di depan polisi yoris mengatakan mobil tersebut adalah milik pt remaja prima engeenering yang akan dikirim ke ruang pamer di kawasan sono kembang diperkirakan jaguar tersebut bisa mencapai harga rp 1 miliar lebih bila dijual di indonesia bersama jaguar tersebut polisi juga memeriksa seorang polisi dari polsekta tandes yang mengawal mobil tersebut sayangnya hingga kini pemilik mobil masih belum memenuhi panggilan polisi untuk mengungkap kasus tersebut polisi masih mengembangkan penyelidikan karena selain mobil jaguar tersebut masih ada mobil lain yang disembunyikan tersiar kabar jaguar tersebut masuk lewat pelabuhan tanjungpriok jakarta utara ulf hasan sentot dan joko sulistiobudi\",\n          \"liputan6 com jakarta kuasa hukum siti farika indra syahnun lubis bersama empat rekan yang lain datang ke markas besar polri senin 5 2 sekitar pukul 12 00 wib kedatangan indra untuk melaporkan ketua dpr akbar tandjung ketua panitia khusus buloggate dan bruneigate bachtiar chamsyah selain itu wakil ketua dpr soetardjo suryoguritno dan sejumlah ketua fraksi dpr juga dilaporkan lantaran dianggap telah melakukan pencemaran nama baik dan menyebarkan berita bohong menurut indra hasil pansus itu tak benar karena para saksi yang telah diperiksa mengaku bahwa presiden abdurrahman wahid tak terlibat dalam kedua kasus tersebut sementara itu mabes polri melalui kepala dinas penerangan polri brigadir jenderal saleh saaf mengatakan polri akan menindaklanjuti laporan tersebut namun polri akan mempelajari terlebih dahulu serta mengumpulkan bukti bukti tentang ada atau tidaknya unsur pidana ich nina waskito dan gatot setiawan\",\n          \"liputan6 com batam pemerintah diminta segera memperbaiki anggaran pendapatan dan belanja negara 2001 sebab defisit anggaran ditaksir hampir mencapai rp 100 triliun agar keadaan tak memburuk pemerintah diminta memperhatikan sekaligus menempuh kebijakan fiskal yang efektif demikian rekomendasi ikatan sarjana ekonomi indonesia yang ditelurkan dalam sidang pleno ke sepuluh yang berlangsung di batam baru baru ini isei meminta pemerintah memperhatikan pergeseran sejumlah asumsi ekonomi seperti nilai tukar rupiah harga minyak dunia dan sertifikat suku bunga bank indonesia perkiraan yang melenceng itu menyebabkan defisit apbn dinilai pemerintah bakal kesulitan menggerakkan roda ekonomi jika defisit melampaui angka rp 100 triliun sebelumnya presiden abdurrahman wahid menyatakan penggelembungan defisit anggaran baru sebatas proyeksi saat ini apbn 2001 masih berjalan sesuai target kendati tak menyebut secara rinci pemerintah sejak dini telah mengambil langkah langkah terpadu serta menyiapkan sejumlah agenda untuk mengurangi defisit anggaran sementara itu selain menyoroti apbn 2001 isei juga mencermati kondisi ekonomi makro indonesia yang harus menjadi prioritas pemerintah untuk segera diselesaikan mereka juga mendesak pemerintah menaruh perhatian pada persoalan otonomi daerah dan investasi yang bergerak negatif tna tim liputan 6 sctv\"\n        ],\n        \"semantic_type\": \"\",\n        \"description\": \"\"\n      }\n    },\n    {\n      \"column\": \"abstractive_summary\",\n      \"properties\": {\n        \"dtype\": \"string\",\n        \"num_unique_values\": 10958,\n        \"samples\": [\n          \"gempa berkekuatan 5 skala richter kembali mengguncang jakarta gempa yang berlangsung sekitar tiga menit itu berpusat di sebelah barat daya bengkulu\",\n          \"eliza maria tuahatu mengaku bahwa tiga paket bom yang dibawanya berasal dari tommy soeharto keterlibatan gerakan aceh merdeka dipastikan pada serangkaian teror bom di medan\",\n          \"penambak dipasena lampung mendesak pemerintah menangkap sjamsul nursalim komisaris pt dipasena itu dinilai kerap mengabaikan hak hak para penambak\"\n        ],\n        \"semantic_type\": \"\",\n        \"description\": \"\"\n      }\n    },\n    {\n      \"column\": \"extractive_summary\",\n      \"properties\": {\n        \"dtype\": \"string\",\n        \"num_unique_values\": 10958,\n        \"samples\": [\n          \"liputan6 com jakarta gempa kembali mengguncang jakarta sekitar pukul 02 36 wib rabu 14 2 dinihari gempa berkekuatan 5 skala richter itu berlangsung sekitar tiga menit dan diperkirakan berpusat di barat daya provinsi bengkulu\",\n          \"menurut kepala dinas penerangan polri brigadir jenderal saleh saaf di jakarta sabtu 20 1 eliza mengaku tiga paket bom yang dibawanya berasal dari tommy soeharto termasuk tiga lembar cek senilai rp 75 juta sementara itu kepolisian daerah sumatra utara menyatakan gerakan aceh merdeka terlibat dalam kasus 14 bom malam natal di medan dan pematangsiantar tahun silam\",\n          \"pasalnya sjamsul dinilai kerap mengabaikan hak hak penambak sementara itu manajemen pt gajah tunggal yang menaungi pt dipasena menganggap permintaan penambak p3uw berlebihan\"\n        ],\n        \"semantic_type\": \"\",\n        \"description\": \"\"\n      }\n    }\n  ]\n}"
            }
          },
          "metadata": {},
          "execution_count": 38
        }
      ]
    },
    {
      "cell_type": "code",
      "source": [
        "# download dev_df into csv in my local\n",
        "from google.colab import files\n",
        "\n",
        "dev_df.to_csv('dev_df.csv', encoding = 'utf-8-sig')\n",
        "files.download('dev_df.csv')"
      ],
      "metadata": {
        "colab": {
          "base_uri": "https://localhost:8080/",
          "height": 17
        },
        "id": "o9rH2zGoMh2S",
        "outputId": "04803c33-1f6f-47eb-d81e-f6df744b78c7"
      },
      "execution_count": 48,
      "outputs": [
        {
          "output_type": "display_data",
          "data": {
            "text/plain": [
              "<IPython.core.display.Javascript object>"
            ],
            "application/javascript": [
              "\n",
              "    async function download(id, filename, size) {\n",
              "      if (!google.colab.kernel.accessAllowed) {\n",
              "        return;\n",
              "      }\n",
              "      const div = document.createElement('div');\n",
              "      const label = document.createElement('label');\n",
              "      label.textContent = `Downloading \"${filename}\": `;\n",
              "      div.appendChild(label);\n",
              "      const progress = document.createElement('progress');\n",
              "      progress.max = size;\n",
              "      div.appendChild(progress);\n",
              "      document.body.appendChild(div);\n",
              "\n",
              "      const buffers = [];\n",
              "      let downloaded = 0;\n",
              "\n",
              "      const channel = await google.colab.kernel.comms.open(id);\n",
              "      // Send a message to notify the kernel that we're ready.\n",
              "      channel.send({})\n",
              "\n",
              "      for await (const message of channel.messages) {\n",
              "        // Send a message to notify the kernel that we're ready.\n",
              "        channel.send({})\n",
              "        if (message.buffers) {\n",
              "          for (const buffer of message.buffers) {\n",
              "            buffers.push(buffer);\n",
              "            downloaded += buffer.byteLength;\n",
              "            progress.value = downloaded;\n",
              "          }\n",
              "        }\n",
              "      }\n",
              "      const blob = new Blob(buffers, {type: 'application/binary'});\n",
              "      const a = document.createElement('a');\n",
              "      a.href = window.URL.createObjectURL(blob);\n",
              "      a.download = filename;\n",
              "      div.appendChild(a);\n",
              "      a.click();\n",
              "      div.remove();\n",
              "    }\n",
              "  "
            ]
          },
          "metadata": {}
        },
        {
          "output_type": "display_data",
          "data": {
            "text/plain": [
              "<IPython.core.display.Javascript object>"
            ],
            "application/javascript": [
              "download(\"download_72435828-ab0b-4486-96bb-88cbe4892114\", \"dev_df.csv\", 19401967)"
            ]
          },
          "metadata": {}
        }
      ]
    },
    {
      "cell_type": "markdown",
      "source": [
        "## Remove outlier based on text length"
      ],
      "metadata": {
        "id": "7Uhp7VUocmzW"
      }
    },
    {
      "cell_type": "code",
      "source": [
        "# shape before outlier removed\n",
        "dev_df.shape"
      ],
      "metadata": {
        "colab": {
          "base_uri": "https://localhost:8080/"
        },
        "outputId": "d4d55aa6-5fc6-475e-8bf2-7e2e55860857",
        "id": "U7FgsIM9cmzX"
      },
      "execution_count": 109,
      "outputs": [
        {
          "output_type": "execute_result",
          "data": {
            "text/plain": [
              "(10972, 3)"
            ]
          },
          "metadata": {},
          "execution_count": 109
        }
      ]
    },
    {
      "cell_type": "code",
      "source": [
        "# prompt: see the outliers from train_df\n",
        "\n",
        "import matplotlib.pyplot as plt\n",
        "import seaborn as sns\n",
        "\n",
        "# Calculate the IQR for each column\n",
        "Q1_original_text = dev_df['original_text'].apply(lambda x: len(str(x).split())).quantile(0.25)\n",
        "Q3_original_text = dev_df['original_text'].apply(lambda x: len(str(x).split())).quantile(0.75)\n",
        "IQR_original_text = Q3_original_text - Q1_original_text\n",
        "lower_bound_original_text = Q1_original_text - 1.5 * IQR_original_text\n",
        "upper_bound_original_text = Q3_original_text + 1.5 * IQR_original_text\n",
        "\n",
        "Q1_abstractive_summary = dev_df['abstractive_summary'].apply(lambda x: len(str(x).split())).quantile(0.25)\n",
        "Q3_abstractive_summary = dev_df['abstractive_summary'].apply(lambda x: len(str(x).split())).quantile(0.75)\n",
        "IQR_abstractive_summary = Q3_abstractive_summary - Q1_abstractive_summary\n",
        "lower_bound_abstractive_summary = Q1_abstractive_summary - 1.5 * IQR_abstractive_summary\n",
        "upper_bound_abstractive_summary = Q3_abstractive_summary + 1.5 * IQR_abstractive_summary\n",
        "\n",
        "\n",
        "Q1_extractive_summary = dev_df['extractive_summary'].apply(lambda x: len(str(x).split())).quantile(0.25)\n",
        "Q3_extractive_summary = dev_df['extractive_summary'].apply(lambda x: len(str(x).split())).quantile(0.75)\n",
        "IQR_extractive_summary = Q3_extractive_summary - Q1_extractive_summary\n",
        "lower_bound_extractive_summary = Q1_extractive_summary - 1.5 * IQR_extractive_summary\n",
        "upper_bound_extractive_summary = Q3_extractive_summary + 1.5 * IQR_extractive_summary\n",
        "\n",
        "\n",
        "# Find rows with outliers in 'text_length', 'summary_length', and 'e_summary_length'\n",
        "outliers = dev_df[\n",
        "    ~(dev_df['original_text'].apply(lambda x: len(str(x).split())).between(lower_bound_original_text, upper_bound_original_text) &\n",
        "      dev_df['abstractive_summary'].apply(lambda x: len(str(x).split())).between(lower_bound_abstractive_summary, upper_bound_abstractive_summary) &\n",
        "      dev_df['extractive_summary'].apply(lambda x: len(str(x).split())).between(lower_bound_extractive_summary, upper_bound_extractive_summary))\n",
        "]\n",
        "\n",
        "print(\"Outliers in dev_df:\")\n",
        "print(outliers)"
      ],
      "metadata": {
        "colab": {
          "base_uri": "https://localhost:8080/"
        },
        "outputId": "0a4413fc-4da3-443b-ee1d-3299bf037575",
        "id": "AT83PbH5cmzX"
      },
      "execution_count": 124,
      "outputs": [
        {
          "output_type": "stream",
          "name": "stdout",
          "text": [
            "Outliers in dev_df:\n",
            "Empty DataFrame\n",
            "Columns: [original_text, abstractive_summary, extractive_summary, original_text_length, abstractive_summary_length, extractive_summary_length]\n",
            "Index: []\n"
          ]
        }
      ]
    },
    {
      "cell_type": "code",
      "source": [
        "# delete those rows as outlier in dev_df\n",
        "# Remove rows with outliers\n",
        "\n",
        "dev_df = dev_df[\n",
        "    dev_df['original_text'].apply(lambda x: len(str(x).split())).between(lower_bound_original_text, upper_bound_original_text) &\n",
        "    dev_df['abstractive_summary'].apply(lambda x: len(str(x).split())).between(lower_bound_abstractive_summary, upper_bound_abstractive_summary) &\n",
        "    dev_df['extractive_summary'].apply(lambda x: len(str(x).split())).between(lower_bound_extractive_summary, upper_bound_extractive_summary)\n",
        "]\n",
        "\n",
        "print(\"DataFrame shape after removing outliers:\", dev_df.shape)"
      ],
      "metadata": {
        "colab": {
          "base_uri": "https://localhost:8080/"
        },
        "outputId": "2fa0af05-f146-4f1b-d8a8-40a27c207384",
        "id": "9Dq5eQ6_cmzX"
      },
      "execution_count": 125,
      "outputs": [
        {
          "output_type": "stream",
          "name": "stdout",
          "text": [
            "DataFrame shape after removing outliers: (9540, 6)\n"
          ]
        }
      ]
    },
    {
      "cell_type": "code",
      "source": [
        "# make a boxplot based on dev_df for column original_text, abstractive_summary, and extractive_summary\n",
        "\n",
        "plt.figure(figsize=(12, 6))\n",
        "dev_df['original_text_length'] = dev_df['original_text'].apply(lambda x: len(str(x).split()))\n",
        "dev_df['abstractive_summary_length'] = dev_df['abstractive_summary'].apply(lambda x: len(str(x).split()))\n",
        "dev_df['extractive_summary_length'] = dev_df['extractive_summary'].apply(lambda x: len(str(x).split()))\n",
        "sns.boxplot(data=dev_df[['original_text_length', 'abstractive_summary_length', 'extractive_summary_length']])\n",
        "plt.title('Box Plot of Word Length for Original Text, Abstractive Summary, and Extractive Summary')\n",
        "plt.ylabel('Word Count')\n",
        "\n",
        "plt.show()\n"
      ],
      "metadata": {
        "colab": {
          "base_uri": "https://localhost:8080/",
          "height": 756
        },
        "outputId": "97f9ea44-b433-4841-9624-8bc9ae27ca6c",
        "id": "80lraKkRcmzX"
      },
      "execution_count": 126,
      "outputs": [
        {
          "output_type": "stream",
          "name": "stderr",
          "text": [
            "/usr/local/lib/python3.10/dist-packages/seaborn/_base.py:949: FutureWarning: When grouping with a length-1 list-like, you will need to pass a length-1 tuple to get_group in a future version of pandas. Pass `(name,)` instead of `name` to silence this warning.\n",
            "  data_subset = grouped_data.get_group(pd_key)\n",
            "/usr/local/lib/python3.10/dist-packages/seaborn/categorical.py:640: FutureWarning: SeriesGroupBy.grouper is deprecated and will be removed in a future version of pandas.\n",
            "  positions = grouped.grouper.result_index.to_numpy(dtype=float)\n",
            "/usr/local/lib/python3.10/dist-packages/seaborn/_base.py:949: FutureWarning: When grouping with a length-1 list-like, you will need to pass a length-1 tuple to get_group in a future version of pandas. Pass `(name,)` instead of `name` to silence this warning.\n",
            "  data_subset = grouped_data.get_group(pd_key)\n",
            "/usr/local/lib/python3.10/dist-packages/seaborn/categorical.py:640: FutureWarning: SeriesGroupBy.grouper is deprecated and will be removed in a future version of pandas.\n",
            "  positions = grouped.grouper.result_index.to_numpy(dtype=float)\n",
            "/usr/local/lib/python3.10/dist-packages/seaborn/_base.py:949: FutureWarning: When grouping with a length-1 list-like, you will need to pass a length-1 tuple to get_group in a future version of pandas. Pass `(name,)` instead of `name` to silence this warning.\n",
            "  data_subset = grouped_data.get_group(pd_key)\n",
            "/usr/local/lib/python3.10/dist-packages/seaborn/categorical.py:640: FutureWarning: SeriesGroupBy.grouper is deprecated and will be removed in a future version of pandas.\n",
            "  positions = grouped.grouper.result_index.to_numpy(dtype=float)\n"
          ]
        },
        {
          "output_type": "display_data",
          "data": {
            "text/plain": [
              "<Figure size 1200x600 with 1 Axes>"
            ],
            "image/png": "[encoded data removed]"
          },
          "metadata": {}
        }
      ]
    },
    {
      "cell_type": "code",
      "source": [
        "# drop column original_text_length, abstractive_summary_length, extractive_summary_length\n",
        "\n",
        "dev_df = dev_df.drop(['original_text_length', 'abstractive_summary_length', 'extractive_summary_length'], axis=1)\n"
      ],
      "metadata": {
        "id": "7U_vWzKjcmzX"
      },
      "execution_count": 127,
      "outputs": []
    },
    {
      "cell_type": "code",
      "source": [
        "dev_df.shape"
      ],
      "metadata": {
        "colab": {
          "base_uri": "https://localhost:8080/"
        },
        "outputId": "7472e8eb-d53a-4a55-9c84-7e585842ead9",
        "id": "Wa28hrsncmzX"
      },
      "execution_count": 128,
      "outputs": [
        {
          "output_type": "execute_result",
          "data": {
            "text/plain": [
              "(9540, 3)"
            ]
          },
          "metadata": {},
          "execution_count": 128
        }
      ]
    },
    {
      "cell_type": "code",
      "source": [
        "# download dev_df with no outlier into csv in my local\n",
        "from google.colab import files\n",
        "\n",
        "dev_df.to_csv('dev_df.csv', encoding = 'utf-8-sig')\n",
        "files.download('dev_df.csv')"
      ],
      "metadata": {
        "colab": {
          "base_uri": "https://localhost:8080/",
          "height": 17
        },
        "outputId": "e5f136ba-e62e-41a5-a576-186f7df156ae",
        "id": "q9Eo8qGqcmzY"
      },
      "execution_count": 129,
      "outputs": [
        {
          "output_type": "display_data",
          "data": {
            "text/plain": [
              "<IPython.core.display.Javascript object>"
            ],
            "application/javascript": [
              "\n",
              "    async function download(id, filename, size) {\n",
              "      if (!google.colab.kernel.accessAllowed) {\n",
              "        return;\n",
              "      }\n",
              "      const div = document.createElement('div');\n",
              "      const label = document.createElement('label');\n",
              "      label.textContent = `Downloading \"${filename}\": `;\n",
              "      div.appendChild(label);\n",
              "      const progress = document.createElement('progress');\n",
              "      progress.max = size;\n",
              "      div.appendChild(progress);\n",
              "      document.body.appendChild(div);\n",
              "\n",
              "      const buffers = [];\n",
              "      let downloaded = 0;\n",
              "\n",
              "      const channel = await google.colab.kernel.comms.open(id);\n",
              "      // Send a message to notify the kernel that we're ready.\n",
              "      channel.send({})\n",
              "\n",
              "      for await (const message of channel.messages) {\n",
              "        // Send a message to notify the kernel that we're ready.\n",
              "        channel.send({})\n",
              "        if (message.buffers) {\n",
              "          for (const buffer of message.buffers) {\n",
              "            buffers.push(buffer);\n",
              "            downloaded += buffer.byteLength;\n",
              "            progress.value = downloaded;\n",
              "          }\n",
              "        }\n",
              "      }\n",
              "      const blob = new Blob(buffers, {type: 'application/binary'});\n",
              "      const a = document.createElement('a');\n",
              "      a.href = window.URL.createObjectURL(blob);\n",
              "      a.download = filename;\n",
              "      div.appendChild(a);\n",
              "      a.click();\n",
              "      div.remove();\n",
              "    }\n",
              "  "
            ]
          },
          "metadata": {}
        },
        {
          "output_type": "display_data",
          "data": {
            "text/plain": [
              "<IPython.core.display.Javascript object>"
            ],
            "application/javascript": [
              "download(\"download_4eb88f2e-723a-4586-a88b-8829231638ae\", \"dev_df.csv\", 15198243)"
            ]
          },
          "metadata": {}
        }
      ]
    },
    {
      "cell_type": "markdown",
      "source": [
        "## random sampling 3k row dev_df"
      ],
      "metadata": {
        "id": "eQS8vza6cmzY"
      }
    },
    {
      "cell_type": "code",
      "source": [
        "# random sampling 3k data from dev_df\n",
        "\n",
        "sampled_dev_df = dev_df.sample(n=3000, random_state=42)\n"
      ],
      "metadata": {
        "id": "aa00DQzccmzY"
      },
      "execution_count": 130,
      "outputs": []
    },
    {
      "cell_type": "code",
      "source": [
        "sampled_dev_df.shape"
      ],
      "metadata": {
        "colab": {
          "base_uri": "https://localhost:8080/"
        },
        "outputId": "e1055125-248b-4c18-b671-7ee93cf29db3",
        "id": "QQR0lk3GcmzY"
      },
      "execution_count": 131,
      "outputs": [
        {
          "output_type": "execute_result",
          "data": {
            "text/plain": [
              "(3000, 3)"
            ]
          },
          "metadata": {},
          "execution_count": 131
        }
      ]
    },
    {
      "cell_type": "code",
      "source": [
        "# prompt: see the outliers from dev_df\n",
        "\n",
        "import matplotlib.pyplot as plt\n",
        "import seaborn as sns\n",
        "\n",
        "# Calculate the IQR for each column\n",
        "Q1_original_text = sampled_dev_df['original_text'].apply(lambda x: len(str(x).split())).quantile(0.25)\n",
        "Q3_original_text = sampled_dev_df['original_text'].apply(lambda x: len(str(x).split())).quantile(0.75)\n",
        "IQR_original_text = Q3_original_text - Q1_original_text\n",
        "lower_bound_original_text = Q1_original_text - 1.5 * IQR_original_text\n",
        "upper_bound_original_text = Q3_original_text + 1.5 * IQR_original_text\n",
        "\n",
        "Q1_abstractive_summary = sampled_dev_df['abstractive_summary'].apply(lambda x: len(str(x).split())).quantile(0.25)\n",
        "Q3_abstractive_summary = sampled_dev_df['abstractive_summary'].apply(lambda x: len(str(x).split())).quantile(0.75)\n",
        "IQR_abstractive_summary = Q3_abstractive_summary - Q1_abstractive_summary\n",
        "lower_bound_abstractive_summary = Q1_abstractive_summary - 1.5 * IQR_abstractive_summary\n",
        "upper_bound_abstractive_summary = Q3_abstractive_summary + 1.5 * IQR_abstractive_summary\n",
        "\n",
        "\n",
        "Q1_extractive_summary = sampled_dev_df['extractive_summary'].apply(lambda x: len(str(x).split())).quantile(0.25)\n",
        "Q3_extractive_summary = sampled_dev_df['extractive_summary'].apply(lambda x: len(str(x).split())).quantile(0.75)\n",
        "IQR_extractive_summary = Q3_extractive_summary - Q1_extractive_summary\n",
        "lower_bound_extractive_summary = Q1_extractive_summary - 1.5 * IQR_extractive_summary\n",
        "upper_bound_extractive_summary = Q3_extractive_summary + 1.5 * IQR_extractive_summary\n",
        "\n",
        "\n",
        "# Find rows with outliers in 'text_length', 'summary_length', and 'e_summary_length'\n",
        "outliers = sampled_dev_df[\n",
        "    ~(sampled_dev_df['original_text'].apply(lambda x: len(str(x).split())).between(lower_bound_original_text, upper_bound_original_text) &\n",
        "      sampled_dev_df['abstractive_summary'].apply(lambda x: len(str(x).split())).between(lower_bound_abstractive_summary, upper_bound_abstractive_summary) &\n",
        "      sampled_dev_df['extractive_summary'].apply(lambda x: len(str(x).split())).between(lower_bound_extractive_summary, upper_bound_extractive_summary))\n",
        "]\n",
        "\n",
        "print(\"Outliers in sampled_dev_df:\")\n",
        "print(outliers)"
      ],
      "metadata": {
        "colab": {
          "base_uri": "https://localhost:8080/"
        },
        "outputId": "4bdbacc0-0059-4bf9-e779-bc9c276ab970",
        "id": "LsSG689qcmzY"
      },
      "execution_count": 136,
      "outputs": [
        {
          "output_type": "stream",
          "name": "stdout",
          "text": [
            "Outliers in sampled_dev_df:\n",
            "Empty DataFrame\n",
            "Columns: [original_text, abstractive_summary, extractive_summary, original_text_length, abstractive_summary_length, extractive_summary_length]\n",
            "Index: []\n"
          ]
        }
      ]
    },
    {
      "cell_type": "code",
      "source": [
        "# delete those rows as outlier in train_df\n",
        "\n",
        "# Remove rows with outliers\n",
        "sampled_dev_df = sampled_dev_df[\n",
        "    sampled_dev_df['original_text'].apply(lambda x: len(str(x).split())).between(lower_bound_original_text, upper_bound_original_text) &\n",
        "    sampled_dev_df['abstractive_summary'].apply(lambda x: len(str(x).split())).between(lower_bound_abstractive_summary, upper_bound_abstractive_summary) &\n",
        "    sampled_dev_df['extractive_summary'].apply(lambda x: len(str(x).split())).between(lower_bound_extractive_summary, upper_bound_extractive_summary)\n",
        "]\n",
        "\n",
        "print(\"DataFrame shape after removing outliers:\", sampled_dev_df.shape)"
      ],
      "metadata": {
        "colab": {
          "base_uri": "https://localhost:8080/"
        },
        "outputId": "6f9d2f1c-83af-401f-ca2f-91b29f53cc67",
        "id": "CPERPDMRcmzY"
      },
      "execution_count": 137,
      "outputs": [
        {
          "output_type": "stream",
          "name": "stdout",
          "text": [
            "DataFrame shape after removing outliers: (3000, 6)\n"
          ]
        }
      ]
    },
    {
      "cell_type": "code",
      "source": [
        "# make a boxplot based on train_df for column original_text, abstractive_summary, and extractive_summary\n",
        "\n",
        "plt.figure(figsize=(12, 6))\n",
        "sampled_dev_df['original_text_length'] = sampled_dev_df['original_text'].apply(lambda x: len(str(x).split()))\n",
        "sampled_dev_df['abstractive_summary_length'] = sampled_dev_df['abstractive_summary'].apply(lambda x: len(str(x).split()))\n",
        "sampled_dev_df['extractive_summary_length'] = sampled_dev_df['extractive_summary'].apply(lambda x: len(str(x).split()))\n",
        "sns.boxplot(data=sampled_dev_df[['original_text_length', 'abstractive_summary_length', 'extractive_summary_length']])\n",
        "plt.title('Box Plot of Word Length for Original Text, Abstractive Summary, and Extractive Summary')\n",
        "plt.ylabel('Word Count')\n",
        "plt.show()\n"
      ],
      "metadata": {
        "colab": {
          "base_uri": "https://localhost:8080/",
          "height": 756
        },
        "outputId": "e7a8572d-0ff1-45ef-cf3a-383e159b4428",
        "id": "8JPf49nGcmzY"
      },
      "execution_count": 138,
      "outputs": [
        {
          "output_type": "stream",
          "name": "stderr",
          "text": [
            "/usr/local/lib/python3.10/dist-packages/seaborn/_base.py:949: FutureWarning: When grouping with a length-1 list-like, you will need to pass a length-1 tuple to get_group in a future version of pandas. Pass `(name,)` instead of `name` to silence this warning.\n",
            "  data_subset = grouped_data.get_group(pd_key)\n",
            "/usr/local/lib/python3.10/dist-packages/seaborn/categorical.py:640: FutureWarning: SeriesGroupBy.grouper is deprecated and will be removed in a future version of pandas.\n",
            "  positions = grouped.grouper.result_index.to_numpy(dtype=float)\n",
            "/usr/local/lib/python3.10/dist-packages/seaborn/_base.py:949: FutureWarning: When grouping with a length-1 list-like, you will need to pass a length-1 tuple to get_group in a future version of pandas. Pass `(name,)` instead of `name` to silence this warning.\n",
            "  data_subset = grouped_data.get_group(pd_key)\n",
            "/usr/local/lib/python3.10/dist-packages/seaborn/categorical.py:640: FutureWarning: SeriesGroupBy.grouper is deprecated and will be removed in a future version of pandas.\n",
            "  positions = grouped.grouper.result_index.to_numpy(dtype=float)\n",
            "/usr/local/lib/python3.10/dist-packages/seaborn/_base.py:949: FutureWarning: When grouping with a length-1 list-like, you will need to pass a length-1 tuple to get_group in a future version of pandas. Pass `(name,)` instead of `name` to silence this warning.\n",
            "  data_subset = grouped_data.get_group(pd_key)\n",
            "/usr/local/lib/python3.10/dist-packages/seaborn/categorical.py:640: FutureWarning: SeriesGroupBy.grouper is deprecated and will be removed in a future version of pandas.\n",
            "  positions = grouped.grouper.result_index.to_numpy(dtype=float)\n"
          ]
        },
        {
          "output_type": "display_data",
          "data": {
            "text/plain": [
              "<Figure size 1200x600 with 1 Axes>"
            ],
            "image/png": "[encoded data removed]"
          },
          "metadata": {}
        }
      ]
    },
    {
      "cell_type": "code",
      "source": [
        "sampled_dev_df.shape"
      ],
      "metadata": {
        "colab": {
          "base_uri": "https://localhost:8080/"
        },
        "outputId": "48f4bf7c-eb53-4584-8e61-3a8a3a834960",
        "id": "23zS4vV3cmzY"
      },
      "execution_count": 139,
      "outputs": [
        {
          "output_type": "execute_result",
          "data": {
            "text/plain": [
              "(3000, 6)"
            ]
          },
          "metadata": {},
          "execution_count": 139
        }
      ]
    },
    {
      "cell_type": "code",
      "source": [
        "# download sampled_dev_df with 3k data with no outlier into csv in my local\n",
        "from google.colab import files\n",
        "\n",
        "sampled_dev_df.to_csv('dev_df.csv', encoding = 'utf-8-sig')\n",
        "files.download('dev_df.csv')"
      ],
      "metadata": {
        "colab": {
          "base_uri": "https://localhost:8080/",
          "height": 17
        },
        "outputId": "1c18778e-b5a3-4876-e9cf-92b221f194ef",
        "id": "HcAyFtIvcmzZ"
      },
      "execution_count": 140,
      "outputs": [
        {
          "output_type": "display_data",
          "data": {
            "text/plain": [
              "<IPython.core.display.Javascript object>"
            ],
            "application/javascript": [
              "\n",
              "    async function download(id, filename, size) {\n",
              "      if (!google.colab.kernel.accessAllowed) {\n",
              "        return;\n",
              "      }\n",
              "      const div = document.createElement('div');\n",
              "      const label = document.createElement('label');\n",
              "      label.textContent = `Downloading \"${filename}\": `;\n",
              "      div.appendChild(label);\n",
              "      const progress = document.createElement('progress');\n",
              "      progress.max = size;\n",
              "      div.appendChild(progress);\n",
              "      document.body.appendChild(div);\n",
              "\n",
              "      const buffers = [];\n",
              "      let downloaded = 0;\n",
              "\n",
              "      const channel = await google.colab.kernel.comms.open(id);\n",
              "      // Send a message to notify the kernel that we're ready.\n",
              "      channel.send({})\n",
              "\n",
              "      for await (const message of channel.messages) {\n",
              "        // Send a message to notify the kernel that we're ready.\n",
              "        channel.send({})\n",
              "        if (message.buffers) {\n",
              "          for (const buffer of message.buffers) {\n",
              "            buffers.push(buffer);\n",
              "            downloaded += buffer.byteLength;\n",
              "            progress.value = downloaded;\n",
              "          }\n",
              "        }\n",
              "      }\n",
              "      const blob = new Blob(buffers, {type: 'application/binary'});\n",
              "      const a = document.createElement('a');\n",
              "      a.href = window.URL.createObjectURL(blob);\n",
              "      a.download = filename;\n",
              "      div.appendChild(a);\n",
              "      a.click();\n",
              "      div.remove();\n",
              "    }\n",
              "  "
            ]
          },
          "metadata": {}
        },
        {
          "output_type": "display_data",
          "data": {
            "text/plain": [
              "<IPython.core.display.Javascript object>"
            ],
            "application/javascript": [
              "download(\"download_6f7ab083-4d8a-4e13-896c-b13ced9404c8\", \"dev_df.csv\", 4820795)"
            ]
          },
          "metadata": {}
        }
      ]
    },
    {
      "cell_type": "markdown",
      "source": [
        "# Prepare the TEST_CSV"
      ],
      "metadata": {
        "id": "4vifJssFMh8t"
      }
    },
    {
      "cell_type": "markdown",
      "source": [
        "## preparing column, convert to normal text"
      ],
      "metadata": {
        "id": "9WRBFb1VUXz4"
      }
    },
    {
      "cell_type": "code",
      "source": [
        "import pandas as pd"
      ],
      "metadata": {
        "id": "CVSidwhJUXz4"
      },
      "execution_count": null,
      "outputs": []
    },
    {
      "cell_type": "code",
      "execution_count": 39,
      "metadata": {
        "collapsed": true,
        "id": "pLnv7TOkUXz4"
      },
      "outputs": [],
      "source": [
        "test_df = pd.read_csv('/content/drive/MyDrive/Bootcamp AI/Dataset/Task2 : Text Summarization/normalized_dataset/test_normalized.csv')"
      ]
    },
    {
      "cell_type": "code",
      "source": [
        "test_df.iloc[1]"
      ],
      "metadata": {
        "colab": {
          "base_uri": "https://localhost:8080/",
          "height": 366
        },
        "outputId": "9902c4f5-13c9-4db1-91b8-b301d9ee5947",
        "id": "cWCzptZYUXz4"
      },
      "execution_count": 40,
      "outputs": [
        {
          "output_type": "execute_result",
          "data": {
            "text/plain": [
              "id                                                                        22708\n",
              "url                           https://www.liputan6.com/news/read/22708/keret...\n",
              "clean_article                 [['Liputan6', '.', 'com', ',', 'Yogyakarta', '...\n",
              "clean_summary                 [['Pemberangkatan', 'kereta', 'api', 'dari', '...\n",
              "extractive_summary                                                       [3, 4]\n",
              "rebuilt_extractive_summary    [['Demikian', 'diungkapkan', 'seorang', 'petug...\n",
              "text                            liputan6       com       yogyakarta       da...\n",
              "summary                         berangkat   kereta   api   dari   jalur   se...\n",
              "e_summary                     demikian ungkap orang tugas pt kereta api indo...\n",
              "Name: 1, dtype: object"
            ],
            "text/html": [
              "<div>\n",
              "<style scoped>\n",
              "    .dataframe tbody tr th:only-of-type {\n",
              "        vertical-align: middle;\n",
              "    }\n",
              "\n",
              "    .dataframe tbody tr th {\n",
              "        vertical-align: top;\n",
              "    }\n",
              "\n",
              "    .dataframe thead th {\n",
              "        text-align: right;\n",
              "    }\n",
              "</style>\n",
              "<table border=\"1\" class=\"dataframe\">\n",
              "  <thead>\n",
              "    <tr style=\"text-align: right;\">\n",
              "      <th></th>\n",
              "      <th>1</th>\n",
              "    </tr>\n",
              "  </thead>\n",
              "  <tbody>\n",
              "    <tr>\n",
              "      <th>id</th>\n",
              "      <td>22708</td>\n",
              "    </tr>\n",
              "    <tr>\n",
              "      <th>url</th>\n",
              "      <td>https://www.liputan6.com/news/read/22708/keret...</td>\n",
              "    </tr>\n",
              "    <tr>\n",
              "      <th>clean_article</th>\n",
              "      <td>[['Liputan6', '.', 'com', ',', 'Yogyakarta', '...</td>\n",
              "    </tr>\n",
              "    <tr>\n",
              "      <th>clean_summary</th>\n",
              "      <td>[['Pemberangkatan', 'kereta', 'api', 'dari', '...</td>\n",
              "    </tr>\n",
              "    <tr>\n",
              "      <th>extractive_summary</th>\n",
              "      <td>[3, 4]</td>\n",
              "    </tr>\n",
              "    <tr>\n",
              "      <th>rebuilt_extractive_summary</th>\n",
              "      <td>[['Demikian', 'diungkapkan', 'seorang', 'petug...</td>\n",
              "    </tr>\n",
              "    <tr>\n",
              "      <th>text</th>\n",
              "      <td>liputan6       com       yogyakarta       da...</td>\n",
              "    </tr>\n",
              "    <tr>\n",
              "      <th>summary</th>\n",
              "      <td>berangkat   kereta   api   dari   jalur   se...</td>\n",
              "    </tr>\n",
              "    <tr>\n",
              "      <th>e_summary</th>\n",
              "      <td>demikian ungkap orang tugas pt kereta api indo...</td>\n",
              "    </tr>\n",
              "  </tbody>\n",
              "</table>\n",
              "</div><br><label><b>dtype:</b> object</label>"
            ]
          },
          "metadata": {},
          "execution_count": 40
        }
      ]
    },
    {
      "cell_type": "code",
      "source": [
        "# drop the column \"extractive_summary\", \"text, \"summary\", and \"e_summary\"\n",
        "test_df = test_df.drop(['id', 'url', 'extractive_summary', 'text', 'summary', 'e_summary'], axis=1)"
      ],
      "metadata": {
        "id": "uFWZ9iHQUXz5"
      },
      "execution_count": 41,
      "outputs": []
    },
    {
      "cell_type": "code",
      "source": [
        "# rename the column \"clean_article\" into \"original_text\"\n",
        "test_df = test_df.rename(columns={\"clean_article\": \"original_text\"})\n",
        "test_df = test_df.rename(columns={\"clean_summary\": \"abstractive_summary\"})\n",
        "test_df = test_df.rename(columns={\"rebuilt_extractive_summary\": \"extractive_summary\"})"
      ],
      "metadata": {
        "id": "6hM2Q7L9UXz5"
      },
      "execution_count": 42,
      "outputs": []
    },
    {
      "cell_type": "code",
      "source": [
        "import re\n",
        "\n",
        "def clean_text(text):\n",
        "    # Remove URL + lowercase\n",
        "    text = re.sub(r'#(\\w+)', lambda match: ' ' + re.sub(r'(?<=[a-z0-9])(?=[A-Z])', ' ', match.group(1)), text)\n",
        "    text = text.lower()\n",
        "\n",
        "    # Remove special characters and punctuation\n",
        "    text = re.sub(r'[^\\w\\s]', ' ', text)\n",
        "    text = re.sub(r'[^a-zA-Z0-9\\s]', ' ', text)\n",
        "\n",
        "    # Remove extra whitespace\n",
        "    text = re.sub(r'\\s+', ' ', text).strip()\n",
        "\n",
        "    return text\n",
        "\n",
        "# Apply the function to create new columns\n",
        "test_df['original_text'] = test_df['original_text'].apply(clean_text)\n",
        "test_df['abstractive_summary'] = test_df['abstractive_summary'].apply(clean_text)\n",
        "test_df['extractive_summary'] = test_df['extractive_summary'].apply(clean_text)"
      ],
      "metadata": {
        "id": "qXOd1e5hUXz5"
      },
      "execution_count": 43,
      "outputs": []
    },
    {
      "cell_type": "code",
      "source": [
        "test_df.head()"
      ],
      "metadata": {
        "colab": {
          "base_uri": "https://localhost:8080/",
          "height": 293
        },
        "collapsed": true,
        "outputId": "afa5f3b0-b77b-4529-af28-af0805f0fbd8",
        "id": "Ogpyf08OUXz5"
      },
      "execution_count": 45,
      "outputs": [
        {
          "output_type": "execute_result",
          "data": {
            "text/plain": [
              "                                       original_text  \\\n",
              "0  liputan6 com jakarta kejaksaan agung resmi men...   \n",
              "1  liputan6 com yogyakarta kedatangan kereta api ...   \n",
              "2  liputan6 com jakarta kejaksaan agung bakal men...   \n",
              "3  liputan6 com ambon sejumlah organisasi massa i...   \n",
              "4  liputan6 com bengkulu kehadiran kapal pukat ha...   \n",
              "\n",
              "                                 abstractive_summary  \\\n",
              "0  tommy soeharto kembali dicekal atas kasus kepe...   \n",
              "1  pemberangkatan kereta api dari jalur selatan k...   \n",
              "2  menyikapi putusan ma yang mengabulkan peninjau...   \n",
              "3  sejumlah ormas islam di ambon mengecam rencana...   \n",
              "4  masih banyak kapal yang menggunakan pukat hari...   \n",
              "\n",
              "                                  extractive_summary  \n",
              "0  pencekalan tommy alias ibrahim kali ini berkai...  \n",
              "1  demikian diungkapkan seorang petugas pt kereta...  \n",
              "2  liputan6 com jakarta kejaksaan agung bakal men...  \n",
              "3  tujuannya mengecam rencana agresi militer amer...  \n",
              "4  menurut dia sudah saatnya izin bersyarat diber...  "
            ],
            "text/html": [
              "\n",
              "  <div id=\"df-a9632fc0-1298-47c4-af7b-929a388972de\" class=\"colab-df-container\">\n",
              "    <div>\n",
              "<style scoped>\n",
              "    .dataframe tbody tr th:only-of-type {\n",
              "        vertical-align: middle;\n",
              "    }\n",
              "\n",
              "    .dataframe tbody tr th {\n",
              "        vertical-align: top;\n",
              "    }\n",
              "\n",
              "    .dataframe thead th {\n",
              "        text-align: right;\n",
              "    }\n",
              "</style>\n",
              "<table border=\"1\" class=\"dataframe\">\n",
              "  <thead>\n",
              "    <tr style=\"text-align: right;\">\n",
              "      <th></th>\n",
              "      <th>original_text</th>\n",
              "      <th>abstractive_summary</th>\n",
              "      <th>extractive_summary</th>\n",
              "    </tr>\n",
              "  </thead>\n",
              "  <tbody>\n",
              "    <tr>\n",
              "      <th>0</th>\n",
              "      <td>liputan6 com jakarta kejaksaan agung resmi men...</td>\n",
              "      <td>tommy soeharto kembali dicekal atas kasus kepe...</td>\n",
              "      <td>pencekalan tommy alias ibrahim kali ini berkai...</td>\n",
              "    </tr>\n",
              "    <tr>\n",
              "      <th>1</th>\n",
              "      <td>liputan6 com yogyakarta kedatangan kereta api ...</td>\n",
              "      <td>pemberangkatan kereta api dari jalur selatan k...</td>\n",
              "      <td>demikian diungkapkan seorang petugas pt kereta...</td>\n",
              "    </tr>\n",
              "    <tr>\n",
              "      <th>2</th>\n",
              "      <td>liputan6 com jakarta kejaksaan agung bakal men...</td>\n",
              "      <td>menyikapi putusan ma yang mengabulkan peninjau...</td>\n",
              "      <td>liputan6 com jakarta kejaksaan agung bakal men...</td>\n",
              "    </tr>\n",
              "    <tr>\n",
              "      <th>3</th>\n",
              "      <td>liputan6 com ambon sejumlah organisasi massa i...</td>\n",
              "      <td>sejumlah ormas islam di ambon mengecam rencana...</td>\n",
              "      <td>tujuannya mengecam rencana agresi militer amer...</td>\n",
              "    </tr>\n",
              "    <tr>\n",
              "      <th>4</th>\n",
              "      <td>liputan6 com bengkulu kehadiran kapal pukat ha...</td>\n",
              "      <td>masih banyak kapal yang menggunakan pukat hari...</td>\n",
              "      <td>menurut dia sudah saatnya izin bersyarat diber...</td>\n",
              "    </tr>\n",
              "  </tbody>\n",
              "</table>\n",
              "</div>\n",
              "    <div class=\"colab-df-buttons\">\n",
              "\n",
              "  <div class=\"colab-df-container\">\n",
              "    <button class=\"colab-df-convert\" onclick=\"convertToInteractive('df-a9632fc0-1298-47c4-af7b-929a388972de')\"\n",
              "            title=\"Convert this dataframe to an interactive table.\"\n",
              "            style=\"display:none;\">\n",
              "\n",
              "  <svg xmlns=\"http://www.w3.org/2000/svg\" height=\"24px\" viewBox=\"0 -960 960 960\">\n",
              "    <path d=\"M120-120v-720h720v720H120Zm60-500h600v-160H180v160Zm220 220h160v-160H400v160Zm0 220h160v-160H400v160ZM180-400h160v-160H180v160Zm440 0h160v-160H620v160ZM180-180h160v-160H180v160Zm440 0h160v-160H620v160Z\"/>\n",
              "  </svg>\n",
              "    </button>\n",
              "\n",
              "  <style>\n",
              "    .colab-df-container {\n",
              "      display:flex;\n",
              "      gap: 12px;\n",
              "    }\n",
              "\n",
              "    .colab-df-convert {\n",
              "      background-color: #E8F0FE;\n",
              "      border: none;\n",
              "      border-radius: 50%;\n",
              "      cursor: pointer;\n",
              "      display: none;\n",
              "      fill: #1967D2;\n",
              "      height: 32px;\n",
              "      padding: 0 0 0 0;\n",
              "      width: 32px;\n",
              "    }\n",
              "\n",
              "    .colab-df-convert:hover {\n",
              "      background-color: #E2EBFA;\n",
              "      box-shadow: 0px 1px 2px rgba(60, 64, 67, 0.3), 0px 1px 3px 1px rgba(60, 64, 67, 0.15);\n",
              "      fill: #174EA6;\n",
              "    }\n",
              "\n",
              "    .colab-df-buttons div {\n",
              "      margin-bottom: 4px;\n",
              "    }\n",
              "\n",
              "    [theme=dark] .colab-df-convert {\n",
              "      background-color: #3B4455;\n",
              "      fill: #D2E3FC;\n",
              "    }\n",
              "\n",
              "    [theme=dark] .colab-df-convert:hover {\n",
              "      background-color: #434B5C;\n",
              "      box-shadow: 0px 1px 3px 1px rgba(0, 0, 0, 0.15);\n",
              "      filter: drop-shadow(0px 1px 2px rgba(0, 0, 0, 0.3));\n",
              "      fill: #FFFFFF;\n",
              "    }\n",
              "  </style>\n",
              "\n",
              "    <script>\n",
              "      const buttonEl =\n",
              "        document.querySelector('#df-a9632fc0-1298-47c4-af7b-929a388972de button.colab-df-convert');\n",
              "      buttonEl.style.display =\n",
              "        google.colab.kernel.accessAllowed ? 'block' : 'none';\n",
              "\n",
              "      async function convertToInteractive(key) {\n",
              "        const element = document.querySelector('#df-a9632fc0-1298-47c4-af7b-929a388972de');\n",
              "        const dataTable =\n",
              "          await google.colab.kernel.invokeFunction('convertToInteractive',\n",
              "                                                    [key], {});\n",
              "        if (!dataTable) return;\n",
              "\n",
              "        const docLinkHtml = 'Like what you see? Visit the ' +\n",
              "          '<a target=\"_blank\" href=https://colab.research.google.com/notebooks/data_table.ipynb>data table notebook</a>'\n",
              "          + ' to learn more about interactive tables.';\n",
              "        element.innerHTML = '';\n",
              "        dataTable['output_type'] = 'display_data';\n",
              "        await google.colab.output.renderOutput(dataTable, element);\n",
              "        const docLink = document.createElement('div');\n",
              "        docLink.innerHTML = docLinkHtml;\n",
              "        element.appendChild(docLink);\n",
              "      }\n",
              "    </script>\n",
              "  </div>\n",
              "\n",
              "\n",
              "<div id=\"df-b4b3ddd3-e28e-420d-8df6-81629fbd3e3e\">\n",
              "  <button class=\"colab-df-quickchart\" onclick=\"quickchart('df-b4b3ddd3-e28e-420d-8df6-81629fbd3e3e')\"\n",
              "            title=\"Suggest charts\"\n",
              "            style=\"display:none;\">\n",
              "\n",
              "<svg xmlns=\"http://www.w3.org/2000/svg\" height=\"24px\"viewBox=\"0 0 24 24\"\n",
              "     width=\"24px\">\n",
              "    <g>\n",
              "        <path d=\"M19 3H5c-1.1 0-2 .9-2 2v14c0 1.1.9 2 2 2h14c1.1 0 2-.9 2-2V5c0-1.1-.9-2-2-2zM9 17H7v-7h2v7zm4 0h-2V7h2v10zm4 0h-2v-4h2v4z\"/>\n",
              "    </g>\n",
              "</svg>\n",
              "  </button>\n",
              "\n",
              "<style>\n",
              "  .colab-df-quickchart {\n",
              "      --bg-color: #E8F0FE;\n",
              "      --fill-color: #1967D2;\n",
              "      --hover-bg-color: #E2EBFA;\n",
              "      --hover-fill-color: #174EA6;\n",
              "      --disabled-fill-color: #AAA;\n",
              "      --disabled-bg-color: #DDD;\n",
              "  }\n",
              "\n",
              "  [theme=dark] .colab-df-quickchart {\n",
              "      --bg-color: #3B4455;\n",
              "      --fill-color: #D2E3FC;\n",
              "      --hover-bg-color: #434B5C;\n",
              "      --hover-fill-color: #FFFFFF;\n",
              "      --disabled-bg-color: #3B4455;\n",
              "      --disabled-fill-color: #666;\n",
              "  }\n",
              "\n",
              "  .colab-df-quickchart {\n",
              "    background-color: var(--bg-color);\n",
              "    border: none;\n",
              "    border-radius: 50%;\n",
              "    cursor: pointer;\n",
              "    display: none;\n",
              "    fill: var(--fill-color);\n",
              "    height: 32px;\n",
              "    padding: 0;\n",
              "    width: 32px;\n",
              "  }\n",
              "\n",
              "  .colab-df-quickchart:hover {\n",
              "    background-color: var(--hover-bg-color);\n",
              "    box-shadow: 0 1px 2px rgba(60, 64, 67, 0.3), 0 1px 3px 1px rgba(60, 64, 67, 0.15);\n",
              "    fill: var(--button-hover-fill-color);\n",
              "  }\n",
              "\n",
              "  .colab-df-quickchart-complete:disabled,\n",
              "  .colab-df-quickchart-complete:disabled:hover {\n",
              "    background-color: var(--disabled-bg-color);\n",
              "    fill: var(--disabled-fill-color);\n",
              "    box-shadow: none;\n",
              "  }\n",
              "\n",
              "  .colab-df-spinner {\n",
              "    border: 2px solid var(--fill-color);\n",
              "    border-color: transparent;\n",
              "    border-bottom-color: var(--fill-color);\n",
              "    animation:\n",
              "      spin 1s steps(1) infinite;\n",
              "  }\n",
              "\n",
              "  @keyframes spin {\n",
              "    0% {\n",
              "      border-color: transparent;\n",
              "      border-bottom-color: var(--fill-color);\n",
              "      border-left-color: var(--fill-color);\n",
              "    }\n",
              "    20% {\n",
              "      border-color: transparent;\n",
              "      border-left-color: var(--fill-color);\n",
              "      border-top-color: var(--fill-color);\n",
              "    }\n",
              "    30% {\n",
              "      border-color: transparent;\n",
              "      border-left-color: var(--fill-color);\n",
              "      border-top-color: var(--fill-color);\n",
              "      border-right-color: var(--fill-color);\n",
              "    }\n",
              "    40% {\n",
              "      border-color: transparent;\n",
              "      border-right-color: var(--fill-color);\n",
              "      border-top-color: var(--fill-color);\n",
              "    }\n",
              "    60% {\n",
              "      border-color: transparent;\n",
              "      border-right-color: var(--fill-color);\n",
              "    }\n",
              "    80% {\n",
              "      border-color: transparent;\n",
              "      border-right-color: var(--fill-color);\n",
              "      border-bottom-color: var(--fill-color);\n",
              "    }\n",
              "    90% {\n",
              "      border-color: transparent;\n",
              "      border-bottom-color: var(--fill-color);\n",
              "    }\n",
              "  }\n",
              "</style>\n",
              "\n",
              "  <script>\n",
              "    async function quickchart(key) {\n",
              "      const quickchartButtonEl =\n",
              "        document.querySelector('#' + key + ' button');\n",
              "      quickchartButtonEl.disabled = true;  // To prevent multiple clicks.\n",
              "      quickchartButtonEl.classList.add('colab-df-spinner');\n",
              "      try {\n",
              "        const charts = await google.colab.kernel.invokeFunction(\n",
              "            'suggestCharts', [key], {});\n",
              "      } catch (error) {\n",
              "        console.error('Error during call to suggestCharts:', error);\n",
              "      }\n",
              "      quickchartButtonEl.classList.remove('colab-df-spinner');\n",
              "      quickchartButtonEl.classList.add('colab-df-quickchart-complete');\n",
              "    }\n",
              "    (() => {\n",
              "      let quickchartButtonEl =\n",
              "        document.querySelector('#df-b4b3ddd3-e28e-420d-8df6-81629fbd3e3e button');\n",
              "      quickchartButtonEl.style.display =\n",
              "        google.colab.kernel.accessAllowed ? 'block' : 'none';\n",
              "    })();\n",
              "  </script>\n",
              "</div>\n",
              "\n",
              "    </div>\n",
              "  </div>\n"
            ],
            "application/vnd.google.colaboratory.intrinsic+json": {
              "type": "dataframe",
              "variable_name": "test_df",
              "summary": "{\n  \"name\": \"test_df\",\n  \"rows\": 10972,\n  \"fields\": [\n    {\n      \"column\": \"original_text\",\n      \"properties\": {\n        \"dtype\": \"string\",\n        \"num_unique_values\": 10970,\n        \"samples\": [\n          \"liputan6 com jakarta penjualan saham pt indomobil diduga memiliki kejanggalan yang amat kuat sebab diperkirakan grup salim bakal membeli kembali saham perusahaan otomotif tersebut melalui trimegah securities atas dasar ini ombudsman badan penyehatan perbankan nasional mengusulkan supaya kasus tersebut diteliti lebih jauh oleh auditor independen sebab penelitian oleh auditor independen yang kredibel sebagai pendapat kedua amat diperlukan demikian ditegaskan ketua ombusman bppn i nyoman moena sabtu 22 12 di jakarta menurut moena melalui hasil audit yang independen bppn dapat menjernihkan permasalahan penjualan saham perusahaan mobil yang sebelumnya dimiliki grup salim memang sampai saat ini bppn belum melihat indikasi penyimpangan dalam transaksi penjualan saham pt indomobil saat ini bppn maupun trimegah securities menyatakan bahwa transaksi penjualan saham pt indomobil sudah rampung sejak jumat petang dari hasil penjualan itu bppn menerima dana sebesar rp 625 miliar saham pt indomobil milik pemerintah yang diserahkan mencapai sebesar 72 63 persen bmi arfan yap bano dan zakaria\",\n          \"liputan6 com jakarta akhirnya musyawarah daerah partai golongan karya memilih ade supriyatna menjadi ketua dewan pimpinan daerah partai golkar dki jakarta untuk periode 2001 2004 jakarta jumat 22 6 dini hari pada saat yang sama terdata jumlah anggota yang duduk dalam kepengurusan mengalami penambahan dua kali lipat menjadi 91 orang pengangkatan ade supriyatna itu dilakukan menyusul pengunduran diri ketua yang lama tadjus sobirin lantaran tak mau dicalonkan kembali baca ketua golkar jakarta diberhentikan namun kabarnya tadjus mundur lantaran desakan dari cabang dan pusat yang menilai bekas orang nomor satu partai beringin di ibu kota itu gagal menanggapi pergantian ketua di partai golkar dki tadjus sendiri mengakui bahwa sejumlah rekan rekan memang ada yang tak dapat menerima gaya kepemimpinannya oleh karena itu ungkap tadjus ia menyadari akan desakan mundur tersebut sementara pada kepengurusan yang baru jabatan wakil ketua mengalami penambahan dari sembilan menjadi 12 orang untuk bendahara masih dipegang jack napitupulu sedangkan untuk sekretaris dipercayakan kepada enggar kepengurusan baru itu dilantik dewan pimpinan pusat partai golkar yang dihadiri agung laksono seorang anggota pengurus pusat ors edi priyono dan dwi nindyas\",\n          \"liputan6 com jakarta sebelas dewan pimpinan cabang dan dewan pimpinan wilayah partai kebangkitan bangsa mendesak penyelenggaraan muktamar luar biasa hal itu dimaksudkan sebagai upaya dalam menyelesaikan konflik internal di tubuh partai bahkan jika tuntutan itu tak digubris dewan pimpinan pusat maka mereka akan mengakui matori abdul djalil tetap sebagai ketua umum pkb pernyataan sikap itu disampaikan wakil ketua dpw pkb jawa barat muhammad iskandar di jakarta ahad 12 8 muhammad iskandar menyatakan tuntutan itu akan disampaikan dalam acara musyawarah kerja nasional yang akan berlangsung di jakarta senin besok menurut dia melalui muktamar pertikaian antara elite partai bisa terselesaikan dengan cara islah atau rujuk hasil muktamar itu nantinya akan memiliki legalitas mukernas pkb yang akan digelar itu adalah yang pertama pascalengsernya presiden abdurrahman wahid yang juga menjabat ketua dewan syuro pkb dikabarkan agenda mukernas pkb adalah untuk menetapkan pemberhentian matori sebagai ketua umum dan menunjuk alwi shihab sebagai penggantinya baca muhaimin pkb ke parlemen dibahas di mukernas den satya pandita\"\n        ],\n        \"semantic_type\": \"\",\n        \"description\": \"\"\n      }\n    },\n    {\n      \"column\": \"abstractive_summary\",\n      \"properties\": {\n        \"dtype\": \"string\",\n        \"num_unique_values\": 10967,\n        \"samples\": [\n          \"ada dua kerangka hukum untuk dekrit presiden wahid yakni uu pkb tahun 1999 dan keputusan presiden nomor 1 tahun 1950 seperti yang digunakan sukarno namun kedua cara itu akhirnya akan mengundang militer\",\n          \"rumor pergantian dan mutasi pimpinan di lingkungan tentara dibantah panglima tni laksamana widodo a s presiden tak bisa sewenang wenang mengganti pucuk pimpinan tni\",\n          \"puluhan awak ppd menemui direktur jenderal perhubungan darat dephub mereka menanyakan sejauh mana proses restrukturisasi terhadap perusahaan transportasi berjalan\"\n        ],\n        \"semantic_type\": \"\",\n        \"description\": \"\"\n      }\n    },\n    {\n      \"column\": \"extractive_summary\",\n      \"properties\": {\n        \"dtype\": \"string\",\n        \"num_unique_values\": 10968,\n        \"samples\": [\n          \"padahal sebelumnya kasus yang melibatkan tersangka mantan direktur utama pt marga nurindo bakti mnb joko ramiaji itu sempat dihentikan lewat surat perintah penghentian penyidikan sp3 pada september 1999 silam oleh kejaksaan agung sampai saat ini total kerugian negara atas kasus korupsi itu masih dihitung kejagung\",\n          \"liputan6 com jakarta panglima tni laksamana widodo a s membantah rumor yang menyebutkan ada pergantian pucuk pimpinan di lingkungan tentara\",\n          \"liputan6 com jakarta pemerintah berencana menambah utang luar negeri sebesar rp 35 triliun untuk tahun anggaran 2002 di sisi lain pemerintah juga akan mengupayakan penundaan pembayaran utang luar negeri sebesar rp 27 triliun\"\n        ],\n        \"semantic_type\": \"\",\n        \"description\": \"\"\n      }\n    }\n  ]\n}"
            }
          },
          "metadata": {},
          "execution_count": 45
        }
      ]
    },
    {
      "cell_type": "code",
      "source": [
        "# download test_df into csv in my local\n",
        "from google.colab import files\n",
        "\n",
        "test_df.to_csv('test_df.csv', encoding = 'utf-8-sig')\n",
        "files.download('test_df.csv')\n"
      ],
      "metadata": {
        "colab": {
          "base_uri": "https://localhost:8080/",
          "height": 17
        },
        "id": "7HoYPaL7UXz5",
        "outputId": "a9b516a7-7205-490c-cf79-09242a1501fa"
      },
      "execution_count": 49,
      "outputs": [
        {
          "output_type": "display_data",
          "data": {
            "text/plain": [
              "<IPython.core.display.Javascript object>"
            ],
            "application/javascript": [
              "\n",
              "    async function download(id, filename, size) {\n",
              "      if (!google.colab.kernel.accessAllowed) {\n",
              "        return;\n",
              "      }\n",
              "      const div = document.createElement('div');\n",
              "      const label = document.createElement('label');\n",
              "      label.textContent = `Downloading \"${filename}\": `;\n",
              "      div.appendChild(label);\n",
              "      const progress = document.createElement('progress');\n",
              "      progress.max = size;\n",
              "      div.appendChild(progress);\n",
              "      document.body.appendChild(div);\n",
              "\n",
              "      const buffers = [];\n",
              "      let downloaded = 0;\n",
              "\n",
              "      const channel = await google.colab.kernel.comms.open(id);\n",
              "      // Send a message to notify the kernel that we're ready.\n",
              "      channel.send({})\n",
              "\n",
              "      for await (const message of channel.messages) {\n",
              "        // Send a message to notify the kernel that we're ready.\n",
              "        channel.send({})\n",
              "        if (message.buffers) {\n",
              "          for (const buffer of message.buffers) {\n",
              "            buffers.push(buffer);\n",
              "            downloaded += buffer.byteLength;\n",
              "            progress.value = downloaded;\n",
              "          }\n",
              "        }\n",
              "      }\n",
              "      const blob = new Blob(buffers, {type: 'application/binary'});\n",
              "      const a = document.createElement('a');\n",
              "      a.href = window.URL.createObjectURL(blob);\n",
              "      a.download = filename;\n",
              "      div.appendChild(a);\n",
              "      a.click();\n",
              "      div.remove();\n",
              "    }\n",
              "  "
            ]
          },
          "metadata": {}
        },
        {
          "output_type": "display_data",
          "data": {
            "text/plain": [
              "<IPython.core.display.Javascript object>"
            ],
            "application/javascript": [
              "download(\"download_240019a0-ab14-4ec8-ab6b-c772b9688fc7\", \"test_df.csv\", 18926293)"
            ]
          },
          "metadata": {}
        }
      ]
    },
    {
      "cell_type": "code",
      "source": [],
      "metadata": {
        "id": "00w3q-YSMlrh"
      },
      "execution_count": null,
      "outputs": []
    },
    {
      "cell_type": "markdown",
      "source": [
        "## Remove outlier based on text length"
      ],
      "metadata": {
        "id": "skK8un9meBcI"
      }
    },
    {
      "cell_type": "code",
      "source": [
        "# shape before outlier removed\n",
        "test_df.shape"
      ],
      "metadata": {
        "colab": {
          "base_uri": "https://localhost:8080/"
        },
        "outputId": "709161d0-02b3-43f0-d508-daad13cd6f37",
        "id": "9KDQSr5HeBcI"
      },
      "execution_count": 141,
      "outputs": [
        {
          "output_type": "execute_result",
          "data": {
            "text/plain": [
              "(10972, 3)"
            ]
          },
          "metadata": {},
          "execution_count": 141
        }
      ]
    },
    {
      "cell_type": "code",
      "source": [
        "# prompt: see the outliers from train_df\n",
        "\n",
        "import matplotlib.pyplot as plt\n",
        "import seaborn as sns\n",
        "\n",
        "# Calculate the IQR for each column\n",
        "Q1_original_text = test_df['original_text'].apply(lambda x: len(str(x).split())).quantile(0.25)\n",
        "Q3_original_text = test_df['original_text'].apply(lambda x: len(str(x).split())).quantile(0.75)\n",
        "IQR_original_text = Q3_original_text - Q1_original_text\n",
        "lower_bound_original_text = Q1_original_text - 1.5 * IQR_original_text\n",
        "upper_bound_original_text = Q3_original_text + 1.5 * IQR_original_text\n",
        "\n",
        "Q1_abstractive_summary = test_df['abstractive_summary'].apply(lambda x: len(str(x).split())).quantile(0.25)\n",
        "Q3_abstractive_summary = test_df['abstractive_summary'].apply(lambda x: len(str(x).split())).quantile(0.75)\n",
        "IQR_abstractive_summary = Q3_abstractive_summary - Q1_abstractive_summary\n",
        "lower_bound_abstractive_summary = Q1_abstractive_summary - 1.5 * IQR_abstractive_summary\n",
        "upper_bound_abstractive_summary = Q3_abstractive_summary + 1.5 * IQR_abstractive_summary\n",
        "\n",
        "\n",
        "Q1_extractive_summary = test_df['extractive_summary'].apply(lambda x: len(str(x).split())).quantile(0.25)\n",
        "Q3_extractive_summary = test_df['extractive_summary'].apply(lambda x: len(str(x).split())).quantile(0.75)\n",
        "IQR_extractive_summary = Q3_extractive_summary - Q1_extractive_summary\n",
        "lower_bound_extractive_summary = Q1_extractive_summary - 1.5 * IQR_extractive_summary\n",
        "upper_bound_extractive_summary = Q3_extractive_summary + 1.5 * IQR_extractive_summary\n",
        "\n",
        "\n",
        "# Find rows with outliers in 'text_length', 'summary_length', and 'e_summary_length'\n",
        "outliers = test_df[\n",
        "    ~(test_df['original_text'].apply(lambda x: len(str(x).split())).between(lower_bound_original_text, upper_bound_original_text) &\n",
        "      test_df['abstractive_summary'].apply(lambda x: len(str(x).split())).between(lower_bound_abstractive_summary, upper_bound_abstractive_summary) &\n",
        "      test_df['extractive_summary'].apply(lambda x: len(str(x).split())).between(lower_bound_extractive_summary, upper_bound_extractive_summary))\n",
        "]\n",
        "\n",
        "print(\"Outliers in test_df:\")\n",
        "print(outliers)"
      ],
      "metadata": {
        "colab": {
          "base_uri": "https://localhost:8080/"
        },
        "outputId": "a33bf605-28c3-476b-b9f7-5da0ca8069bc",
        "id": "Esgt2UpFeBcI"
      },
      "execution_count": 154,
      "outputs": [
        {
          "output_type": "stream",
          "name": "stdout",
          "text": [
            "Outliers in test_df:\n",
            "Empty DataFrame\n",
            "Columns: [original_text, abstractive_summary, extractive_summary, original_text_length, abstractive_summary_length, extractive_summary_length]\n",
            "Index: []\n"
          ]
        }
      ]
    },
    {
      "cell_type": "code",
      "source": [
        "# delete those rows as outlier in test_df\n",
        "# Remove rows with outliers\n",
        "\n",
        "test_df = test_df[\n",
        "    test_df['original_text'].apply(lambda x: len(str(x).split())).between(lower_bound_original_text, upper_bound_original_text) &\n",
        "    test_df['abstractive_summary'].apply(lambda x: len(str(x).split())).between(lower_bound_abstractive_summary, upper_bound_abstractive_summary) &\n",
        "    test_df['extractive_summary'].apply(lambda x: len(str(x).split())).between(lower_bound_extractive_summary, upper_bound_extractive_summary)\n",
        "]\n",
        "\n",
        "print(\"DataFrame shape after removing outliers:\", test_df.shape)"
      ],
      "metadata": {
        "colab": {
          "base_uri": "https://localhost:8080/"
        },
        "outputId": "08adfac5-b4bc-4e82-ce5a-2cdb716d6a6d",
        "id": "A2rM-C2ceBcJ"
      },
      "execution_count": 155,
      "outputs": [
        {
          "output_type": "stream",
          "name": "stdout",
          "text": [
            "DataFrame shape after removing outliers: (9775, 6)\n"
          ]
        }
      ]
    },
    {
      "cell_type": "code",
      "source": [
        "# make a boxplot based on dev_df for column original_text, abstractive_summary, and extractive_summary\n",
        "\n",
        "plt.figure(figsize=(12, 6))\n",
        "test_df['original_text_length'] = test_df['original_text'].apply(lambda x: len(str(x).split()))\n",
        "test_df['abstractive_summary_length'] = test_df['abstractive_summary'].apply(lambda x: len(str(x).split()))\n",
        "test_df['extractive_summary_length'] = test_df['extractive_summary'].apply(lambda x: len(str(x).split()))\n",
        "sns.boxplot(data=test_df[['original_text_length', 'abstractive_summary_length', 'extractive_summary_length']])\n",
        "plt.title('Box Plot of Word Length for Original Text, Abstractive Summary, and Extractive Summary')\n",
        "plt.ylabel('Word Count')\n",
        "\n",
        "plt.show()\n"
      ],
      "metadata": {
        "colab": {
          "base_uri": "https://localhost:8080/",
          "height": 756
        },
        "outputId": "95555ccd-a0f2-49b9-e018-c26504070976",
        "id": "72_FzmqIeBcJ"
      },
      "execution_count": 156,
      "outputs": [
        {
          "output_type": "stream",
          "name": "stderr",
          "text": [
            "/usr/local/lib/python3.10/dist-packages/seaborn/_base.py:949: FutureWarning: When grouping with a length-1 list-like, you will need to pass a length-1 tuple to get_group in a future version of pandas. Pass `(name,)` instead of `name` to silence this warning.\n",
            "  data_subset = grouped_data.get_group(pd_key)\n",
            "/usr/local/lib/python3.10/dist-packages/seaborn/categorical.py:640: FutureWarning: SeriesGroupBy.grouper is deprecated and will be removed in a future version of pandas.\n",
            "  positions = grouped.grouper.result_index.to_numpy(dtype=float)\n",
            "/usr/local/lib/python3.10/dist-packages/seaborn/_base.py:949: FutureWarning: When grouping with a length-1 list-like, you will need to pass a length-1 tuple to get_group in a future version of pandas. Pass `(name,)` instead of `name` to silence this warning.\n",
            "  data_subset = grouped_data.get_group(pd_key)\n",
            "/usr/local/lib/python3.10/dist-packages/seaborn/categorical.py:640: FutureWarning: SeriesGroupBy.grouper is deprecated and will be removed in a future version of pandas.\n",
            "  positions = grouped.grouper.result_index.to_numpy(dtype=float)\n",
            "/usr/local/lib/python3.10/dist-packages/seaborn/_base.py:949: FutureWarning: When grouping with a length-1 list-like, you will need to pass a length-1 tuple to get_group in a future version of pandas. Pass `(name,)` instead of `name` to silence this warning.\n",
            "  data_subset = grouped_data.get_group(pd_key)\n",
            "/usr/local/lib/python3.10/dist-packages/seaborn/categorical.py:640: FutureWarning: SeriesGroupBy.grouper is deprecated and will be removed in a future version of pandas.\n",
            "  positions = grouped.grouper.result_index.to_numpy(dtype=float)\n"
          ]
        },
        {
          "output_type": "display_data",
          "data": {
            "text/plain": [
              "<Figure size 1200x600 with 1 Axes>"
            ],
            "image/png": "[encoded data removed]"
          },
          "metadata": {}
        }
      ]
    },
    {
      "cell_type": "code",
      "source": [
        "# drop column original_text_length, abstractive_summary_length, extractive_summary_length\n",
        "\n",
        "test_df = test_df.drop(['original_text_length', 'abstractive_summary_length', 'extractive_summary_length'], axis=1)\n"
      ],
      "metadata": {
        "id": "hAVTrDIDeBcJ"
      },
      "execution_count": 157,
      "outputs": []
    },
    {
      "cell_type": "code",
      "source": [
        "test_df.shape"
      ],
      "metadata": {
        "colab": {
          "base_uri": "https://localhost:8080/"
        },
        "outputId": "77635ac6-dd14-4058-dc2a-a9d2c523317b",
        "id": "j5g8ZY-QeBcJ"
      },
      "execution_count": 158,
      "outputs": [
        {
          "output_type": "execute_result",
          "data": {
            "text/plain": [
              "(9775, 3)"
            ]
          },
          "metadata": {},
          "execution_count": 158
        }
      ]
    },
    {
      "cell_type": "code",
      "source": [
        "# download test_df with no outlier into csv in my local\n",
        "from google.colab import files\n",
        "\n",
        "test_df.to_csv('test_df.csv', encoding = 'utf-8-sig')\n",
        "files.download('test_df.csv')"
      ],
      "metadata": {
        "colab": {
          "base_uri": "https://localhost:8080/",
          "height": 17
        },
        "outputId": "4a61135d-39d1-4103-bc46-fa70febd6a23",
        "id": "kQVh0qLpeBcJ"
      },
      "execution_count": 159,
      "outputs": [
        {
          "output_type": "display_data",
          "data": {
            "text/plain": [
              "<IPython.core.display.Javascript object>"
            ],
            "application/javascript": [
              "\n",
              "    async function download(id, filename, size) {\n",
              "      if (!google.colab.kernel.accessAllowed) {\n",
              "        return;\n",
              "      }\n",
              "      const div = document.createElement('div');\n",
              "      const label = document.createElement('label');\n",
              "      label.textContent = `Downloading \"${filename}\": `;\n",
              "      div.appendChild(label);\n",
              "      const progress = document.createElement('progress');\n",
              "      progress.max = size;\n",
              "      div.appendChild(progress);\n",
              "      document.body.appendChild(div);\n",
              "\n",
              "      const buffers = [];\n",
              "      let downloaded = 0;\n",
              "\n",
              "      const channel = await google.colab.kernel.comms.open(id);\n",
              "      // Send a message to notify the kernel that we're ready.\n",
              "      channel.send({})\n",
              "\n",
              "      for await (const message of channel.messages) {\n",
              "        // Send a message to notify the kernel that we're ready.\n",
              "        channel.send({})\n",
              "        if (message.buffers) {\n",
              "          for (const buffer of message.buffers) {\n",
              "            buffers.push(buffer);\n",
              "            downloaded += buffer.byteLength;\n",
              "            progress.value = downloaded;\n",
              "          }\n",
              "        }\n",
              "      }\n",
              "      const blob = new Blob(buffers, {type: 'application/binary'});\n",
              "      const a = document.createElement('a');\n",
              "      a.href = window.URL.createObjectURL(blob);\n",
              "      a.download = filename;\n",
              "      div.appendChild(a);\n",
              "      a.click();\n",
              "      div.remove();\n",
              "    }\n",
              "  "
            ]
          },
          "metadata": {}
        },
        {
          "output_type": "display_data",
          "data": {
            "text/plain": [
              "<IPython.core.display.Javascript object>"
            ],
            "application/javascript": [
              "download(\"download_3d4e1110-1073-4df3-a170-af71676da233\", \"test_df.csv\", 15180440)"
            ]
          },
          "metadata": {}
        }
      ]
    },
    {
      "cell_type": "markdown",
      "source": [
        "## random sampling 3k row test_df"
      ],
      "metadata": {
        "id": "b2riHnCZeBcJ"
      }
    },
    {
      "cell_type": "code",
      "source": [
        "# random sampling 3k data from test_df\n",
        "\n",
        "sampled_test_df = test_df.sample(n=3000, random_state=42)\n"
      ],
      "metadata": {
        "id": "81iGKi68eBcJ"
      },
      "execution_count": 160,
      "outputs": []
    },
    {
      "cell_type": "code",
      "source": [
        "sampled_test_df.shape"
      ],
      "metadata": {
        "colab": {
          "base_uri": "https://localhost:8080/"
        },
        "outputId": "a9ef47ff-73fd-43ef-955a-1d0dc5b2bedf",
        "id": "idCLNSXYeBcK"
      },
      "execution_count": 161,
      "outputs": [
        {
          "output_type": "execute_result",
          "data": {
            "text/plain": [
              "(3000, 3)"
            ]
          },
          "metadata": {},
          "execution_count": 161
        }
      ]
    },
    {
      "cell_type": "code",
      "source": [
        "# prompt: see the outliers from train_df\n",
        "\n",
        "import matplotlib.pyplot as plt\n",
        "import seaborn as sns\n",
        "\n",
        "# Calculate the IQR for each column\n",
        "Q1_original_text = sampled_test_df['original_text'].apply(lambda x: len(str(x).split())).quantile(0.25)\n",
        "Q3_original_text = sampled_test_df['original_text'].apply(lambda x: len(str(x).split())).quantile(0.75)\n",
        "IQR_original_text = Q3_original_text - Q1_original_text\n",
        "lower_bound_original_text = Q1_original_text - 1.5 * IQR_original_text\n",
        "upper_bound_original_text = Q3_original_text + 1.5 * IQR_original_text\n",
        "\n",
        "Q1_abstractive_summary = sampled_test_df['abstractive_summary'].apply(lambda x: len(str(x).split())).quantile(0.25)\n",
        "Q3_abstractive_summary = sampled_test_df['abstractive_summary'].apply(lambda x: len(str(x).split())).quantile(0.75)\n",
        "IQR_abstractive_summary = Q3_abstractive_summary - Q1_abstractive_summary\n",
        "lower_bound_abstractive_summary = Q1_abstractive_summary - 1.5 * IQR_abstractive_summary\n",
        "upper_bound_abstractive_summary = Q3_abstractive_summary + 1.5 * IQR_abstractive_summary\n",
        "\n",
        "\n",
        "Q1_extractive_summary = sampled_test_df['extractive_summary'].apply(lambda x: len(str(x).split())).quantile(0.25)\n",
        "Q3_extractive_summary = sampled_test_df['extractive_summary'].apply(lambda x: len(str(x).split())).quantile(0.75)\n",
        "IQR_extractive_summary = Q3_extractive_summary - Q1_extractive_summary\n",
        "lower_bound_extractive_summary = Q1_extractive_summary - 1.5 * IQR_extractive_summary\n",
        "upper_bound_extractive_summary = Q3_extractive_summary + 1.5 * IQR_extractive_summary\n",
        "\n",
        "\n",
        "# Find rows with outliers in 'text_length', 'summary_length', and 'e_summary_length'\n",
        "outliers = sampled_test_df[\n",
        "    ~(sampled_test_df['original_text'].apply(lambda x: len(str(x).split())).between(lower_bound_original_text, upper_bound_original_text) &\n",
        "      sampled_test_df['abstractive_summary'].apply(lambda x: len(str(x).split())).between(lower_bound_abstractive_summary, upper_bound_abstractive_summary) &\n",
        "      sampled_test_df['extractive_summary'].apply(lambda x: len(str(x).split())).between(lower_bound_extractive_summary, upper_bound_extractive_summary))\n",
        "]\n",
        "\n",
        "print(\"Outliers in sampled_test_df:\")\n",
        "print(outliers)"
      ],
      "metadata": {
        "colab": {
          "base_uri": "https://localhost:8080/"
        },
        "outputId": "594b319b-f3d0-49bc-ec82-91ae4b01ca0a",
        "id": "FEXMqMjjeBcK"
      },
      "execution_count": 165,
      "outputs": [
        {
          "output_type": "stream",
          "name": "stdout",
          "text": [
            "Outliers in sampled_test_df:\n",
            "Empty DataFrame\n",
            "Columns: [original_text, abstractive_summary, extractive_summary, original_text_length, abstractive_summary_length, extractive_summary_length]\n",
            "Index: []\n"
          ]
        }
      ]
    },
    {
      "cell_type": "code",
      "source": [
        "# delete those rows as outlier in train_df\n",
        "\n",
        "# Remove rows with outliers\n",
        "sampled_test_df = sampled_test_df[\n",
        "    sampled_test_df['original_text'].apply(lambda x: len(str(x).split())).between(lower_bound_original_text, upper_bound_original_text) &\n",
        "    sampled_test_df['abstractive_summary'].apply(lambda x: len(str(x).split())).between(lower_bound_abstractive_summary, upper_bound_abstractive_summary) &\n",
        "    sampled_test_df['extractive_summary'].apply(lambda x: len(str(x).split())).between(lower_bound_extractive_summary, upper_bound_extractive_summary)\n",
        "]\n",
        "\n",
        "print(\"DataFrame shape after removing outliers:\", sampled_test_df.shape)"
      ],
      "metadata": {
        "colab": {
          "base_uri": "https://localhost:8080/"
        },
        "outputId": "52079857-30eb-4e8f-d845-cb6d68647a06",
        "id": "QL6miIKkeBcK"
      },
      "execution_count": 166,
      "outputs": [
        {
          "output_type": "stream",
          "name": "stdout",
          "text": [
            "DataFrame shape after removing outliers: (2991, 6)\n"
          ]
        }
      ]
    },
    {
      "cell_type": "code",
      "source": [
        "# make a boxplot based on train_df for column original_text, abstractive_summary, and extractive_summary\n",
        "\n",
        "plt.figure(figsize=(12, 6))\n",
        "sampled_test_df['original_text_length'] = sampled_test_df['original_text'].apply(lambda x: len(str(x).split()))\n",
        "sampled_test_df['abstractive_summary_length'] = sampled_test_df['abstractive_summary'].apply(lambda x: len(str(x).split()))\n",
        "sampled_test_df['extractive_summary_length'] = sampled_test_df['extractive_summary'].apply(lambda x: len(str(x).split()))\n",
        "sns.boxplot(data=sampled_test_df[['original_text_length', 'abstractive_summary_length', 'extractive_summary_length']])\n",
        "plt.title('Box Plot of Word Length for Original Text, Abstractive Summary, and Extractive Summary')\n",
        "plt.ylabel('Word Count')\n",
        "plt.show()\n"
      ],
      "metadata": {
        "colab": {
          "base_uri": "https://localhost:8080/",
          "height": 756
        },
        "outputId": "5987d988-3a24-4da8-c0bb-db8c29871f54",
        "id": "mrIXYbuEeBcK"
      },
      "execution_count": 167,
      "outputs": [
        {
          "output_type": "stream",
          "name": "stderr",
          "text": [
            "/usr/local/lib/python3.10/dist-packages/seaborn/_base.py:949: FutureWarning: When grouping with a length-1 list-like, you will need to pass a length-1 tuple to get_group in a future version of pandas. Pass `(name,)` instead of `name` to silence this warning.\n",
            "  data_subset = grouped_data.get_group(pd_key)\n",
            "/usr/local/lib/python3.10/dist-packages/seaborn/categorical.py:640: FutureWarning: SeriesGroupBy.grouper is deprecated and will be removed in a future version of pandas.\n",
            "  positions = grouped.grouper.result_index.to_numpy(dtype=float)\n",
            "/usr/local/lib/python3.10/dist-packages/seaborn/_base.py:949: FutureWarning: When grouping with a length-1 list-like, you will need to pass a length-1 tuple to get_group in a future version of pandas. Pass `(name,)` instead of `name` to silence this warning.\n",
            "  data_subset = grouped_data.get_group(pd_key)\n",
            "/usr/local/lib/python3.10/dist-packages/seaborn/categorical.py:640: FutureWarning: SeriesGroupBy.grouper is deprecated and will be removed in a future version of pandas.\n",
            "  positions = grouped.grouper.result_index.to_numpy(dtype=float)\n",
            "/usr/local/lib/python3.10/dist-packages/seaborn/_base.py:949: FutureWarning: When grouping with a length-1 list-like, you will need to pass a length-1 tuple to get_group in a future version of pandas. Pass `(name,)` instead of `name` to silence this warning.\n",
            "  data_subset = grouped_data.get_group(pd_key)\n",
            "/usr/local/lib/python3.10/dist-packages/seaborn/categorical.py:640: FutureWarning: SeriesGroupBy.grouper is deprecated and will be removed in a future version of pandas.\n",
            "  positions = grouped.grouper.result_index.to_numpy(dtype=float)\n"
          ]
        },
        {
          "output_type": "display_data",
          "data": {
            "text/plain": [
              "<Figure size 1200x600 with 1 Axes>"
            ],
            "image/png": "[encoded data removed]"
          },
          "metadata": {}
        }
      ]
    },
    {
      "cell_type": "code",
      "source": [
        "sampled_test_df.shape"
      ],
      "metadata": {
        "colab": {
          "base_uri": "https://localhost:8080/"
        },
        "outputId": "bf9db4d6-a19c-42bb-e9f3-63eb433c646a",
        "id": "zZnZUjgneBcK"
      },
      "execution_count": 168,
      "outputs": [
        {
          "output_type": "execute_result",
          "data": {
            "text/plain": [
              "(2991, 6)"
            ]
          },
          "metadata": {},
          "execution_count": 168
        }
      ]
    },
    {
      "cell_type": "code",
      "source": [
        "# download sampled_test_df with 3k data with no outlier into csv in my local\n",
        "from google.colab import files\n",
        "\n",
        "sampled_test_df.to_csv('test_df.csv', encoding = 'utf-8-sig')\n",
        "files.download('test_df.csv')"
      ],
      "metadata": {
        "colab": {
          "base_uri": "https://localhost:8080/",
          "height": 17
        },
        "outputId": "3b3914c7-7e91-42c0-97c7-a9d3a4ecfc9e",
        "id": "VcWA5MZIeBcK"
      },
      "execution_count": 169,
      "outputs": [
        {
          "output_type": "display_data",
          "data": {
            "text/plain": [
              "<IPython.core.display.Javascript object>"
            ],
            "application/javascript": [
              "\n",
              "    async function download(id, filename, size) {\n",
              "      if (!google.colab.kernel.accessAllowed) {\n",
              "        return;\n",
              "      }\n",
              "      const div = document.createElement('div');\n",
              "      const label = document.createElement('label');\n",
              "      label.textContent = `Downloading \"${filename}\": `;\n",
              "      div.appendChild(label);\n",
              "      const progress = document.createElement('progress');\n",
              "      progress.max = size;\n",
              "      div.appendChild(progress);\n",
              "      document.body.appendChild(div);\n",
              "\n",
              "      const buffers = [];\n",
              "      let downloaded = 0;\n",
              "\n",
              "      const channel = await google.colab.kernel.comms.open(id);\n",
              "      // Send a message to notify the kernel that we're ready.\n",
              "      channel.send({})\n",
              "\n",
              "      for await (const message of channel.messages) {\n",
              "        // Send a message to notify the kernel that we're ready.\n",
              "        channel.send({})\n",
              "        if (message.buffers) {\n",
              "          for (const buffer of message.buffers) {\n",
              "            buffers.push(buffer);\n",
              "            downloaded += buffer.byteLength;\n",
              "            progress.value = downloaded;\n",
              "          }\n",
              "        }\n",
              "      }\n",
              "      const blob = new Blob(buffers, {type: 'application/binary'});\n",
              "      const a = document.createElement('a');\n",
              "      a.href = window.URL.createObjectURL(blob);\n",
              "      a.download = filename;\n",
              "      div.appendChild(a);\n",
              "      a.click();\n",
              "      div.remove();\n",
              "    }\n",
              "  "
            ]
          },
          "metadata": {}
        },
        {
          "output_type": "display_data",
          "data": {
            "text/plain": [
              "<IPython.core.display.Javascript object>"
            ],
            "application/javascript": [
              "download(\"download_57faf330-0d20-4eb5-9b0b-2d714fcc2045\", \"test_df.csv\", 4663365)"
            ]
          },
          "metadata": {}
        }
      ]
    },
    {
      "cell_type": "code",
      "source": [],
      "metadata": {
        "id": "m33mAGZKfXMI"
      },
      "execution_count": null,
      "outputs": []
    }
  ]
}